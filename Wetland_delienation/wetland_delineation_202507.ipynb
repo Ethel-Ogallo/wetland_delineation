{
 "cells": [
  {
   "cell_type": "markdown",
   "id": "a6a47162",
   "metadata": {},
   "source": [
    "### Wetland delineation  \n",
    "This notebook outlines the workflow for wetland delineation using data derived from GEE and applying Random classification model."
   ]
  },
  {
   "cell_type": "markdown",
   "id": "4aaa3555",
   "metadata": {},
   "source": [
    "#### 1. Initial setup and GEE connection"
   ]
  },
  {
   "cell_type": "markdown",
   "id": "34a6e212",
   "metadata": {},
   "source": [
    "#### 1.1 Install and import necessary libraries"
   ]
  },
  {
   "cell_type": "code",
   "execution_count": 3,
   "id": "d3c92648",
   "metadata": {},
   "outputs": [],
   "source": [
    "import ee\n",
    "import os\n",
    "import geopandas as gpd\n",
    "import matplotlib.pyplot as plt\n",
    "import rasterio     \n",
    "import numpy as np  \n",
    "\n",
    "from rasterio.warp import calculate_default_transform, reproject, Resampling"
   ]
  },
  {
   "cell_type": "markdown",
   "id": "3f80046f",
   "metadata": {},
   "source": [
    "#### 1.2. Connect to GEE"
   ]
  },
  {
   "cell_type": "code",
   "execution_count": 4,
   "id": "7c11ad5f",
   "metadata": {},
   "outputs": [],
   "source": [
    "# Authenticate and initialize Earth Engine\n",
    "ee.Authenticate()\n",
    "ee.Initialize(project=\"ee-ogalloethel\") "
   ]
  },
  {
   "cell_type": "markdown",
   "id": "6619166e",
   "metadata": {},
   "source": [
    "#### 1.3. Define AOI"
   ]
  },
  {
   "cell_type": "code",
   "execution_count": 5,
   "id": "d25f3f82",
   "metadata": {},
   "outputs": [
    {
     "name": "stdout",
     "output_type": "stream",
     "text": [
      "Base directory found: C:\\Users\\Ethel Ogallo\\Documents\\ZFL1\\Data\n"
     ]
    }
   ],
   "source": [
    "# Base directory whee data is stored\n",
    "base_dir = r\"C:\\Users\\Ethel Ogallo\\Documents\\ZFL1\\Data\"\n",
    "\n",
    "# Verify the directory exists\n",
    "if not os.path.exists(base_dir):\n",
    "    print(f\"WARNING: Base directory does not exist: {base_dir}\\nPlease check your path!\")\n",
    "else:\n",
    "    print(f\"Base directory found: {base_dir}\")\n",
    "\n",
    "# Set AOI from shapefile\n",
    "shapefile = gpd.read_file(os.path.join(base_dir, 'baringo_bbox/baringo_bbox.shp'))\n",
    "study_area = ee.Geometry(shapefile.geometry[0].__geo_interface__)"
   ]
  },
  {
   "cell_type": "markdown",
   "id": "ef4ea75f",
   "metadata": {},
   "source": [
    "#### 2. Downloading data from GEE  \n",
    "The necessary EO data downloaded include: DEM and slope, Land surface temperature, Derived NDVI and NDWI, Sentinel1-GRD data"
   ]
  },
  {
   "cell_type": "markdown",
   "id": "d7e033a2",
   "metadata": {},
   "source": [
    "#### 2.1 Generic functions to export GEE data"
   ]
  },
  {
   "cell_type": "code",
   "execution_count": null,
   "id": "ad366c23",
   "metadata": {},
   "outputs": [],
   "source": [
    "# Function to read a raster file and return an aligned array\n",
    "def clip_to_aoi(image):\n",
    "    \"\"\"\n",
    "    Clip an ee.Image to the study_area geometry.\n",
    "    Args:\n",
    "        image (ee.Image): The image to clip.\n",
    "    Returns:   \n",
    "        ee.Image: The clipped image.\n",
    "        \"\"\"\n",
    "    if not isinstance(image, ee.Image):\n",
    "        raise TypeError(\"Input must be an ee.Image\")\n",
    "    return image.clip(study_area)\n",
    "\n",
    "# Function to export an ee.Image to Google Drive\n",
    "def export_image_to_drive(image, year, label='image', folder='Exports', scale=30):\n",
    "    \"\"\"\n",
    "    Export an ee.Image to Google Drive.\n",
    "    Args:\n",
    "        image (ee.Image): The image to export.\n",
    "        year (int): The year associated with the image.\n",
    "        label (str): A label for the exported image.\n",
    "        folder (str): The folder in Google Drive to save the image.\n",
    "        scale (int): The scale of the exported image in meters.\n",
    "    Returns:\n",
    "        None\n",
    "    \"\"\"\n",
    "    task = ee.batch.Export.image.toDrive(\n",
    "        image=image,\n",
    "        description=f'{label}_{year}',\n",
    "        folder=folder,\n",
    "        fileNamePrefix=f'{label}_{year}',\n",
    "        scale=scale,\n",
    "        region=study_area,\n",
    "        fileFormat='GeoTIFF',\n",
    "        maxPixels=1e13\n",
    "    )\n",
    "    task.start()\n",
    "    print(f\"Export started: {label}_{year}\")\n"
   ]
  },
  {
   "cell_type": "markdown",
   "id": "84c00164",
   "metadata": {},
   "source": [
    "#### 2.1. Download DEM and SLope"
   ]
  },
  {
   "cell_type": "code",
   "execution_count": null,
   "id": "dc9334f9",
   "metadata": {},
   "outputs": [],
   "source": [
    "# Function to get DEM and slope\n",
    "def get_dem():\n",
    "    \"\"\"\n",
    "    Retrieve DEM and slope.\n",
    "\n",
    "    Returns:\n",
    "        Tuple[ee.Image, ee.Image]: (DEM image, slope image)\n",
    "    \"\"\"\n",
    "    dem = ee.ImageCollection(\"COPERNICUS/DEM/GLO30\") \\\n",
    "        .filterBounds(study_area).mosaic().select('DEM')\n",
    "    dem = clip_to_aoi(dem).toFloat().reproject('EPSG:32736', 30)\n",
    "    slope = ee.Terrain.slope(dem).rename('Slope')\n",
    "    return dem.rename('DEM'), slope\n"
   ]
  },
  {
   "cell_type": "code",
   "execution_count": null,
   "id": "dead930b",
   "metadata": {},
   "outputs": [],
   "source": [
    "# Get DEM and slope\n",
    "dem, slope = get_dem()\n",
    "\n",
    "# Export or process each as needed\n",
    "export_image_to_drive(dem, year='DEM', label='DEM', folder='DEM')\n",
    "export_image_to_drive(slope, year='Slope', label='Slope', folder='DEM')"
   ]
  },
  {
   "cell_type": "code",
   "execution_count": null,
   "id": "11ecff75",
   "metadata": {},
   "outputs": [],
   "source": [
    "# Function to reproject a raster to match another raster's CRS and dimensions\n",
    "def reproject_to_match(src_path, ref_path, dst_path):\n",
    "    \"\"\"\n",
    "    Reproject a raster to match the CRS, transform, and shape of a reference raster.\n",
    "    Args:\n",
    "        src_path (str): Path to source raster.\n",
    "        ref_path (str): Path to reference raster.\n",
    "        dst_path (str): Path to save reprojected raster.\n",
    "    \"\"\"\n",
    "    with rasterio.open(ref_path) as ref, rasterio.open(src_path) as src:\n",
    "        dst_array = np.empty((ref.height, ref.width), dtype=src.dtypes[0])\n",
    "        reproject(\n",
    "            source=src.read(1),\n",
    "            destination=dst_array,\n",
    "            src_transform=src.transform,\n",
    "            src_crs=src.crs,\n",
    "            dst_transform=ref.transform,\n",
    "            dst_crs=ref.crs,\n",
    "            resampling=Resampling.bilinear\n",
    "        )\n",
    "        profile = src.profile.copy()\n",
    "        profile.update({\n",
    "            'crs': ref.crs,\n",
    "            'transform': ref.transform,\n",
    "            'width': ref.width,\n",
    "            'height': ref.height\n",
    "        })\n",
    "        with rasterio.open(dst_path, 'w', **profile) as dst:\n",
    "            dst.write(dst_array, 1)\n",
    "\n",
    "# Usage example:\n",
    "reproject_to_match(\n",
    "    src_path=os.path.join(base_dir, 'DEM', 'Slope.tif'),\n",
    "    ref_path=os.path.join(base_dir, 'DEM', 'DEM.tif'),\n",
    "    dst_path=os.path.join(base_dir, 'DEM', 'Slope_aligned.tif')\n",
    ")\n"
   ]
  },
  {
   "cell_type": "markdown",
   "id": "71c7845e",
   "metadata": {},
   "source": [
    "#### 2.2. Download Landsat Land Surface Temperature (LST) 2015-2025\n",
    "A cloud mask was appled prior to download"
   ]
  },
  {
   "cell_type": "code",
   "execution_count": null,
   "id": "502a3799",
   "metadata": {},
   "outputs": [],
   "source": [
    "def cloud_mask(image):\n",
    "    # Mask clouds and cloud shadows using QA_PIXEL band\n",
    "    qa = image.select('QA_PIXEL')\n",
    "    mask = qa.bitwiseAnd(1 << 3).eq(0).And(qa.bitwiseAnd(1 << 5).eq(0))\n",
    "    return image.updateMask(mask)\n",
    "\n",
    "def download_lst(year):\n",
    "    \"\"\"\n",
    "    Download Landsat 8 LST for a specific year.\n",
    "    Args:\n",
    "        year (int): The year for which to download the LST image.\n",
    "    Returns:\n",
    "        ee.Image: The mean LST image for the specified year.\n",
    "    \"\"\"\n",
    "    lst_col = (ee.ImageCollection('LANDSAT/LC08/C02/T1_L2')\n",
    "               .filterBounds(study_area)\n",
    "               .filterDate(f'{year}-01-01', f'{year}-12-31')\n",
    "               .map(cloud_mask)\n",
    "               .map(lambda img: img.select('ST_B10')\n",
    "                    .multiply(0.00341802).add(149.0)\n",
    "                    .subtract(273.15)\n",
    "                    .rename('LST'))\n",
    "               .map(clip_to_aoi))\n",
    "    return lst_col.mean().set({'year': year})\n"
   ]
  },
  {
   "cell_type": "code",
   "execution_count": null,
   "id": "251ff397",
   "metadata": {},
   "outputs": [],
   "source": [
    "# Loop through the years and export LST images\n",
    "years = list(range(2015, 2026))\n",
    "\n",
    "# Get the LST image for each year and export it to Google Drive\n",
    "for year in years: \n",
    "    lst = download_lst(year)\n",
    "    export_image_to_drive(lst, year, label='LST_mean', folder='LST')\n"
   ]
  },
  {
   "cell_type": "markdown",
   "id": "ee2d70aa",
   "metadata": {},
   "source": [
    "#### 2.3. Compute NDVI Standard Deviation and Oscillation 2015-2025"
   ]
  },
  {
   "cell_type": "code",
   "execution_count": null,
   "id": "e5c6f063",
   "metadata": {},
   "outputs": [],
   "source": [
    "def compute_ndvi(year):\n",
    "    \"\"\"\n",
    "    Compute NDVI for Sentinel-2 images for a specific year.\n",
    "    Args:\n",
    "        year (int): The year for which to compute NDVI.\n",
    "    Returns:   \n",
    "        ee.Image: The NDVI standard deviation and range for the specified year.\n",
    "    \"\"\"\n",
    "    s2 = (ee.ImageCollection('COPERNICUS/S2_HARMONIZED')\n",
    "          .filterBounds(study_area)\n",
    "          .filterDate(f'{year}-01-01', f'{year}-12-31')\n",
    "          .filter(ee.Filter.lt('CLOUDY_PIXEL_PERCENTAGE', 10))\n",
    "          .map(clip_to_aoi)\n",
    "          .map(lambda img: img.addBands(\n",
    "              img.normalizedDifference(['B8', 'B4']).rename('NDVI')))\n",
    "          .select('NDVI'))\n",
    "\n",
    "    ndvi_std = s2.reduce(ee.Reducer.stdDev()).rename(f'NDVI_SD_{year}')\n",
    "    ndvi_range = s2.reduce(ee.Reducer.max()).subtract(\n",
    "        s2.reduce(ee.Reducer.min())\n",
    "    ).rename(f'NDVI_Range_{year}')\n",
    "    return ndvi_std, ndvi_range\n"
   ]
  },
  {
   "cell_type": "code",
   "execution_count": null,
   "id": "8a2d7fd8",
   "metadata": {},
   "outputs": [],
   "source": [
    "# Export NDVI statistics to Google Drive\n",
    "for year in years:\n",
    "    ndvi_std, ndvi_range = compute_ndvi(year)\n",
    "    export_image_to_drive(ndvi_std, year, label='NDVI_SD', folder='NDVI')\n",
    "    export_image_to_drive(ndvi_range, year, label='NDVI_Range', folder='NDVI')\n"
   ]
  },
  {
   "cell_type": "markdown",
   "id": "822fb727",
   "metadata": {},
   "source": [
    "#### 2.4. Compute max NDWI from S2 2015-2025"
   ]
  },
  {
   "cell_type": "code",
   "execution_count": null,
   "id": "da19e139",
   "metadata": {},
   "outputs": [],
   "source": [
    "def compute_ndwi(year):\n",
    "    \"\"\"\n",
    "    Compute maximum NDWI for Sentinel-2 images for a given year.\n",
    "    Args:\n",
    "        year (int): Year of interest.\n",
    "    Returns:\n",
    "        ee.Image: Max NDWI image.\n",
    "    \"\"\"\n",
    "    s2 = (ee.ImageCollection('COPERNICUS/S2_HARMONIZED')\n",
    "          .filterBounds(study_area)\n",
    "          .filterDate(f'{year}-01-01', f'{year}-12-31')\n",
    "          .filter(ee.Filter.lt('CLOUDY_PIXEL_PERCENTAGE', 10))\n",
    "          .map(clip_to_aoi)\n",
    "          .map(lambda img: img.normalizedDifference(['B8', 'B3'])\n",
    "               .rename('NDWI').toFloat()))\n",
    "    return s2.max().rename(f'NDWI_Max_{year}')\n"
   ]
  },
  {
   "cell_type": "code",
   "execution_count": null,
   "id": "ace1f5c4",
   "metadata": {},
   "outputs": [],
   "source": [
    "# Export NDVI statistics \n",
    "for year in years:\n",
    "    ndwi_max = compute_ndwi(year)\n",
    "    export_image_to_drive(ndwi_max, year, label='NDWI_Max', folder='NDWI')"
   ]
  },
  {
   "cell_type": "markdown",
   "id": "2b64580e",
   "metadata": {},
   "source": [
    "#### 2.5 Download S1 VV and VH GRD from 2015-2025"
   ]
  },
  {
   "cell_type": "code",
   "execution_count": null,
   "id": "f35bfeab",
   "metadata": {},
   "outputs": [],
   "source": [
    "def get_sentinel1_min(year, pol='VV', orbit_pass='ASCENDING'):\n",
    "    \"\"\"\n",
    "    Get annual minimum Sentinel-1 backscatter (dB) for given polarization.\n",
    "\n",
    "    Args:\n",
    "        year (int): Year of interest.\n",
    "        pol (str): Polarization ('VV' or 'VH').\n",
    "        orbit_pass (str): Orbit pass ('ASCENDING' or 'DESCENDING').\n",
    "    Returns:\n",
    "        ee.Image: Minimum Sentinel-1 backscatter image for the specified year and polarization.\n",
    "    \"\"\"\n",
    "    s1 = (ee.ImageCollection('COPERNICUS/S1_GRD')\n",
    "          .filterDate(f'{year}-01-01', f'{year}-12-31')\n",
    "          .filterBounds(study_area)\n",
    "          .filter(ee.Filter.eq('instrumentMode', 'IW'))\n",
    "          .filter(ee.Filter.eq('orbitProperties_pass', orbit_pass))\n",
    "          .filter(ee.Filter.eq('resolution_meters', 10))\n",
    "          .filter(ee.Filter.listContains('transmitterReceiverPolarisation', pol))\n",
    "          .select(pol))\n",
    "    return clip_to_aoi(s1.min().rename(f'S1_{pol}_Min_{year}'))\n"
   ]
  },
  {
   "cell_type": "code",
   "execution_count": null,
   "id": "222dc7d6",
   "metadata": {},
   "outputs": [],
   "source": [
    "# Export Sentinel-1 VV and VH minimum backscatter images for each year\n",
    "for year in years:\n",
    "    for pol in ['VV', 'VH']:\n",
    "        img = get_sentinel1_min(year, pol=pol)\n",
    "        task = ee.batch.Export.image.toDrive(\n",
    "            image=img,\n",
    "            description=f'S1_{pol}_Min_{year}',\n",
    "            folder=f'S1_{pol}',\n",
    "            fileNamePrefix=f'S1_{pol}_Min_{year}',\n",
    "            region=study_area,\n",
    "            scale=10,\n",
    "            crs='EPSG:4326',\n",
    "            maxPixels=1e13\n",
    "        )\n",
    "        task.start()\n",
    "        print(f\"Started export: S1_{pol}_Min_{year}\")\n"
   ]
  },
  {
   "cell_type": "markdown",
   "id": "d84c3668",
   "metadata": {},
   "source": [
    "### 4. Feature clasification using Random Forest  "
   ]
  },
  {
   "cell_type": "code",
   "execution_count": 6,
   "id": "d59c13ec",
   "metadata": {},
   "outputs": [],
   "source": [
    "import os\n",
    "import math\n",
    "from collections import Counter\n",
    "\n",
    "import numpy as np\n",
    "import pandas as pd\n",
    "import geopandas as gpd\n",
    "import rasterio\n",
    "from rasterio.io import MemoryFile\n",
    "from rasterio.transform import rowcol, from_bounds\n",
    "from rasterio.features import geometry_mask\n",
    "from rasterio.warp import calculate_default_transform, reproject, Resampling\n",
    "import matplotlib.pyplot as plt\n",
    "from matplotlib.colors import ListedColormap, BoundaryNorm\n",
    "\n",
    "from sklearn.ensemble import RandomForestClassifier\n",
    "from sklearn.preprocessing import LabelEncoder\n",
    "from sklearn.metrics import classification_report, confusion_matrix, accuracy_score, ConfusionMatrixDisplay\n",
    "from sklearn.model_selection import StratifiedKFold, train_test_split\n",
    "from sklearn.inspection import permutation_importance\n",
    "\n",
    "from skimage.morphology import opening, square\n",
    "from scipy.interpolate import griddata\n"
   ]
  },
  {
   "cell_type": "markdown",
   "id": "e6783a85",
   "metadata": {},
   "source": [
    "#### 4.1 Training points "
   ]
  },
  {
   "cell_type": "code",
   "execution_count": 7,
   "id": "c10bccf1",
   "metadata": {},
   "outputs": [
    {
     "data": {
      "text/html": [
       "<div>\n",
       "<style scoped>\n",
       "    .dataframe tbody tr th:only-of-type {\n",
       "        vertical-align: middle;\n",
       "    }\n",
       "\n",
       "    .dataframe tbody tr th {\n",
       "        vertical-align: top;\n",
       "    }\n",
       "\n",
       "    .dataframe thead th {\n",
       "        text-align: right;\n",
       "    }\n",
       "</style>\n",
       "<table border=\"1\" class=\"dataframe\">\n",
       "  <thead>\n",
       "    <tr style=\"text-align: right;\">\n",
       "      <th></th>\n",
       "      <th>id</th>\n",
       "      <th>class</th>\n",
       "      <th>geometry</th>\n",
       "    </tr>\n",
       "  </thead>\n",
       "  <tbody>\n",
       "    <tr>\n",
       "      <th>0</th>\n",
       "      <td>1</td>\n",
       "      <td>water</td>\n",
       "      <td>POINT (36.06711 0.56802)</td>\n",
       "    </tr>\n",
       "    <tr>\n",
       "      <th>1</th>\n",
       "      <td>2</td>\n",
       "      <td>water</td>\n",
       "      <td>POINT (36.04937 0.67043)</td>\n",
       "    </tr>\n",
       "    <tr>\n",
       "      <th>2</th>\n",
       "      <td>3</td>\n",
       "      <td>water</td>\n",
       "      <td>POINT (36.09725 0.47869)</td>\n",
       "    </tr>\n",
       "    <tr>\n",
       "      <th>3</th>\n",
       "      <td>4</td>\n",
       "      <td>water</td>\n",
       "      <td>POINT (36.09869 0.47104)</td>\n",
       "    </tr>\n",
       "    <tr>\n",
       "      <th>4</th>\n",
       "      <td>5</td>\n",
       "      <td>water</td>\n",
       "      <td>POINT (36.07187 0.34713)</td>\n",
       "    </tr>\n",
       "  </tbody>\n",
       "</table>\n",
       "</div>"
      ],
      "text/plain": [
       "   id  class                  geometry\n",
       "0   1  water  POINT (36.06711 0.56802)\n",
       "1   2  water  POINT (36.04937 0.67043)\n",
       "2   3  water  POINT (36.09725 0.47869)\n",
       "3   4  water  POINT (36.09869 0.47104)\n",
       "4   5  water  POINT (36.07187 0.34713)"
      ]
     },
     "execution_count": 7,
     "metadata": {},
     "output_type": "execute_result"
    }
   ],
   "source": [
    "# Define AOI extents\n",
    "extent = shapefile.total_bounds\n",
    "\n",
    "# Load training points and reproject to match LST raster CRS if needed\n",
    "gdf = gpd.read_file(os.path.join(base_dir, 'baringo_training_points.shp'))\n",
    "with rasterio.open(os.path.join(base_dir, \"DEM\", \"dem.tif\")) as src:\n",
    "    dem_crs = src.crs\n",
    "if gdf.crs != dem_crs:\n",
    "    gdf = gdf.to_crs(dem_crs)\n",
    "\n",
    "gdf.head()\n"
   ]
  },
  {
   "cell_type": "markdown",
   "id": "afda29cf",
   "metadata": {},
   "source": [
    "*Visualizing the training data ensuring they are within the bounds*"
   ]
  },
  {
   "cell_type": "code",
   "execution_count": null,
   "id": "c0ab7c16",
   "metadata": {},
   "outputs": [],
   "source": [
    "# Open rasters\n",
    "lst = rasterio.open(os.path.join(base_dir, \"LST\", \"LST_mean_2015.tif\"))\n",
    "dem = rasterio.open(os.path.join(base_dir, \"DEM\", \"DEM.tif\"))\n",
    "slope = rasterio.open(os.path.join(base_dir, \"DEM\", \"Slope_aligned.tif\"))\n",
    "\n",
    "rasters = [\n",
    "    (lst, \"Land Surface Temperature (LST)\", \"inferno\"),\n",
    "    (dem, \"Digital Elevation Model (DEM)\", \"RdYlGn_r\"),\n",
    "    (slope, \"Slope\", \"viridis\"),\n",
    "]\n",
    "\n",
    "fig, axes = plt.subplots(1, 3, figsize=(22, 10))\n",
    "classes = gdf['class'].unique()\n",
    "colors = ['#145a32', '#abb2b9', '#3498db', '#f39c12']\n",
    "\n",
    "for ax, (raster, title, cmap) in zip(axes, rasters):\n",
    "    im = ax.imshow(\n",
    "        raster.read(1),\n",
    "        cmap=cmap,\n",
    "        extent=[*extent[[0, 2, 1, 3]]],\n",
    "        origin='upper'\n",
    "    )\n",
    "    for cls, color in zip(classes, colors):\n",
    "        subset = gdf[gdf['class'] == cls]\n",
    "        ax.scatter(subset.geometry.x, subset.geometry.y, color=color, s=50, edgecolor='black', label=cls, alpha=0.7)\n",
    "    fig.colorbar(im, ax=ax, label=title, shrink=0.6)\n",
    "    ax.set_title(f\"{title} with Training Points\")\n",
    "    ax.set_xlabel(\"Longitude\")\n",
    "    ax.set_ylabel(\"Latitude\")\n",
    "    ax.legend(loc='lower right', fontsize='small', markerscale=0.7, frameon=True, fancybox=True, framealpha=0.8)\n",
    "    ax.set_aspect('equal')\n",
    "\n",
    "plt.show()\n"
   ]
  },
  {
   "cell_type": "markdown",
   "id": "3a14d755",
   "metadata": {},
   "source": [
    "#### 4.2 Stacking all the raster data  "
   ]
  },
  {
   "cell_type": "markdown",
   "id": "1c08deb6",
   "metadata": {},
   "source": [
    "Ensure all data are of the same shape before attempting to stack  \n",
    "In this context S1 VV and VH are of different shape thus they are resampled first with DEM as the base raster."
   ]
  },
  {
   "cell_type": "code",
   "execution_count": 9,
   "id": "212f0bcb",
   "metadata": {},
   "outputs": [
    {
     "name": "stdout",
     "output_type": "stream",
     "text": [
      "Raster shapes for year 2020:\n",
      "LST: (2887, 3209)\n",
      "NDWI: (2887, 3209)\n",
      "NDVI_SD: (2887, 3209)\n",
      "NDVI_range: (2887, 3209)\n",
      "VV: (8660, 9625)\n",
      "VH: (8660, 9625)\n"
     ]
    }
   ],
   "source": [
    "year = 2020\n",
    "\n",
    "file_map = {\n",
    "    \"LST\": os.path.join(base_dir, \"LST\", f\"LST_mean_{year}.tif\"),\n",
    "    \"NDWI\": os.path.join(base_dir, \"NDWI_1\", f\"NDWI_Max_{year}.tif\"),\n",
    "    \"NDVI_SD\": os.path.join(base_dir, \"NDVI\", f\"NDVI_SD_{year}.tif\"),\n",
    "    \"NDVI_range\": os.path.join(base_dir, \"NDVI\", f\"NDVI_Range_{year}.tif\"),\n",
    "    \"VV\": os.path.join(base_dir, \"S1_VV\", f\"S1_VV_Min_{year}.tif\"),\n",
    "    \"VH\": os.path.join(base_dir, \"S1_VH\", f\"S1_VH_Min_{year}.tif\"),\n",
    "}\n",
    "\n",
    "print(f\"Raster shapes for year {year}:\")\n",
    "for name, path in file_map.items():\n",
    "    if os.path.exists(path):\n",
    "        with rasterio.open(path) as src:\n",
    "            print(f\"{name}: {src.shape}\")\n",
    "    else:\n",
    "        print(f\"{name}: MISSING ({path})\")\n"
   ]
  },
  {
   "cell_type": "code",
   "execution_count": 10,
   "id": "3392669d",
   "metadata": {},
   "outputs": [
    {
     "name": "stdout",
     "output_type": "stream",
     "text": [
      "Sentinel-1 VV/VH resampling complete.\n"
     ]
    }
   ],
   "source": [
    "# resampling the S1 Vv and Vh to match shape with other rasters\n",
    "vv_vh_by_year = {}\n",
    "\n",
    "for year in range(2015, 2026):\n",
    "    vv_vh_by_year[year] = {}\n",
    "\n",
    "    for name in [\"VV\", \"VH\"]:\n",
    "        path = os.path.join(base_dir, f\"S1_{name}\", f\"S1_{name}_Min_{year}.tif\")\n",
    "        ref_path = os.path.join(base_dir, \"LST\", f\"LST_mean_{year}.tif\")\n",
    "\n",
    "        if not os.path.exists(path):\n",
    "            continue\n",
    "\n",
    "        with rasterio.open(ref_path) as ref, rasterio.open(path) as src:\n",
    "            if (src.shape, src.crs, src.transform) != (ref.shape, ref.crs, ref.transform):\n",
    "                dst = np.empty(ref.shape, dtype=src.dtypes[0])\n",
    "                reproject(\n",
    "                    source=src.read(1),\n",
    "                    destination=dst,\n",
    "                    src_transform=src.transform,\n",
    "                    src_crs=src.crs,\n",
    "                    dst_transform=ref.transform,\n",
    "                    dst_crs=ref.crs,\n",
    "                    resampling=Resampling.bilinear\n",
    "                )\n",
    "                vv_vh_by_year[year][name] = dst\n",
    "            else:\n",
    "                vv_vh_by_year[year][name] = src.read(1)\n",
    "\n",
    "print(\"Sentinel-1 VV/VH resampling complete.\")\n"
   ]
  },
  {
   "cell_type": "markdown",
   "id": "45eb20a1",
   "metadata": {},
   "source": [
    "Stacking all the raster data into a single multi-band raster \n"
   ]
  },
  {
   "cell_type": "code",
   "execution_count": 11,
   "id": "08e7d59b",
   "metadata": {},
   "outputs": [],
   "source": [
    "dem = rasterio.open(os.path.join(base_dir, \"DEM\", \"DEM.tif\"))\n",
    "\n",
    "# Stack all raster layers for each year and store in a dictionary\n",
    "feature_stack_by_year = {}\n",
    "\n",
    "ref_shape = dem.shape  # Use DEM as the reference shape\n",
    "\n",
    "for year in range(2015, 2026):\n",
    "    file_map = {\n",
    "        \"LST\": os.path.join(base_dir, \"LST\", f\"LST_mean_{year}.tif\"),\n",
    "        \"NDWI\": os.path.join(base_dir, \"NDWI_1\", f\"NDWI_Max_{year}.tif\"),\n",
    "        \"NDVI_SD\": os.path.join(base_dir, \"NDVI\", f\"NDVI_SD_{year}.tif\"),\n",
    "        \"NDVI_range\": os.path.join(base_dir, \"NDVI\", f\"NDVI_Range_{year}.tif\"),\n",
    "    }\n",
    "\n",
    "    layers, layer_names = [], []\n",
    "\n",
    "    # Add disk rasters\n",
    "    for name, path in file_map.items():\n",
    "        with rasterio.open(path) as src:\n",
    "            arr = src.read(1)\n",
    "            if arr.shape == ref_shape:\n",
    "                layers.append(arr)\n",
    "                layer_names.append(name)\n",
    "\n",
    "    # Add in-memory resampled VV/VH\n",
    "    for name in [\"VV\", \"VH\"]:\n",
    "        arr = vv_vh_by_year.get(year, {}).get(name)\n",
    "        if arr is not None and arr.shape == ref_shape:\n",
    "            layers.append(arr)\n",
    "            layer_names.append(name)\n",
    "\n",
    "    # Add DEM and slope\n",
    "    for raster_obj, name in zip([dem, slope], [\"DEM\", \"Slope\"]):\n",
    "        arr = raster_obj.read(1)\n",
    "        if arr.shape == ref_shape:\n",
    "            layers.append(arr)\n",
    "            layer_names.append(name)\n",
    "\n",
    "    if len(layers) >= 2:\n",
    "        feature_stack_by_year[year] = {\n",
    "            \"stack\": np.stack(layers, axis=-1),\n",
    "            \"layer_names\": layer_names\n",
    "        }\n",
    "    else:\n",
    "        print(f\"Year {year}: Not enough valid layers, skipped.\")\n"
   ]
  },
  {
   "cell_type": "markdown",
   "id": "589e1ae4",
   "metadata": {},
   "source": [
    " Ensuring the multi-band image is within extent of AOI i.e. mask to AOI bounds"
   ]
  },
  {
   "cell_type": "code",
   "execution_count": 26,
   "id": "a2e27b3c",
   "metadata": {},
   "outputs": [],
   "source": [
    "from rasterio.features import rasterize\n",
    "\n",
    "# Create AOI mask\n",
    "transform, out_shape = dem.transform, dem.shape\n",
    "\n",
    "# AOI geometries as list\n",
    "geoms = [feature[\"geometry\"] for feature in shapefile.__geo_interface__[\"features\"]]\n",
    "\n",
    "aoi_mask = rasterize(\n",
    "    geoms,\n",
    "    out_shape=out_shape,\n",
    "    transform=transform,\n",
    "    fill=0,  # Fill value for pixels outside the AOI\n",
    "    all_touched=True,  # includes any pixel touched by polygon boundary\n",
    "    dtype='uint8'\n",
    ").astype(bool)\n",
    "\n"
   ]
  },
  {
   "cell_type": "markdown",
   "id": "5b4983ac",
   "metadata": {},
   "source": [
    "extracting pixel values at the training points "
   ]
  },
  {
   "cell_type": "code",
   "execution_count": 16,
   "id": "7ab382a4",
   "metadata": {},
   "outputs": [
    {
     "name": "stdout",
     "output_type": "stream",
     "text": [
      "Year 2015: 75 samples\n",
      "Year 2016: 75 samples\n",
      "Year 2017: 75 samples\n",
      "Year 2018: 75 samples\n",
      "Year 2019: 75 samples\n",
      "Year 2020: 75 samples\n",
      "Year 2021: 75 samples\n",
      "Year 2022: 75 samples\n",
      "Year 2023: 75 samples\n",
      "Year 2024: 75 samples\n",
      "Year 2025: 75 samples\n"
     ]
    }
   ],
   "source": [
    "# Prepare coordinates and transform\n",
    "coords = [(geom.x, geom.y) for geom in gdf.geometry]\n",
    "transform = dem.transform\n",
    "\n",
    "if 'training_data_by_year' not in globals():\n",
    "    training_data_by_year = {}\n",
    "\n",
    "for year in feature_stack_by_year:\n",
    "    feature_stack = feature_stack_by_year[year]['stack']\n",
    "    rows_cols = [rowcol(transform, x, y) for x, y in coords]\n",
    "    pixels, labels = [], []\n",
    "    for (row, col), label in zip(rows_cols, gdf[\"class\"]):\n",
    "        if 0 <= row < feature_stack.shape[0] and 0 <= col < feature_stack.shape[1]:\n",
    "            px = feature_stack[row, col, :]\n",
    "            if not np.any(np.isnan(px)):\n",
    "                pixels.append(px)\n",
    "                labels.append(label)\n",
    "\n",
    "    X = np.array(pixels)\n",
    "    y = np.array(labels)\n",
    "    le = LabelEncoder()\n",
    "    y_encoded = le.fit_transform(y)\n",
    "    training_data_by_year[year] = {\"X\": X, \"y\": y_encoded, \"label_encoder\": le}\n",
    "    \n",
    "    print(f\"Year {year}: {len(y)} samples\")\n"
   ]
  },
  {
   "cell_type": "code",
   "execution_count": 17,
   "id": "b9b2289e",
   "metadata": {},
   "outputs": [
    {
     "data": {
      "text/html": [
       "<div>\n",
       "<style scoped>\n",
       "    .dataframe tbody tr th:only-of-type {\n",
       "        vertical-align: middle;\n",
       "    }\n",
       "\n",
       "    .dataframe tbody tr th {\n",
       "        vertical-align: top;\n",
       "    }\n",
       "\n",
       "    .dataframe thead th {\n",
       "        text-align: right;\n",
       "    }\n",
       "</style>\n",
       "<table border=\"1\" class=\"dataframe\">\n",
       "  <thead>\n",
       "    <tr style=\"text-align: right;\">\n",
       "      <th></th>\n",
       "      <th>LST</th>\n",
       "      <th>NDWI</th>\n",
       "      <th>NDVI_SD</th>\n",
       "      <th>NDVI_range</th>\n",
       "      <th>VV</th>\n",
       "      <th>VH</th>\n",
       "      <th>DEM</th>\n",
       "      <th>Slope</th>\n",
       "      <th>class</th>\n",
       "    </tr>\n",
       "  </thead>\n",
       "  <tbody>\n",
       "    <tr>\n",
       "      <th>0</th>\n",
       "      <td>27.552753</td>\n",
       "      <td>-0.186182</td>\n",
       "      <td>0.086691</td>\n",
       "      <td>0.360963</td>\n",
       "      <td>-32.101193</td>\n",
       "      <td>-37.080419</td>\n",
       "      <td>973.000000</td>\n",
       "      <td>0.000000</td>\n",
       "      <td>2</td>\n",
       "    </tr>\n",
       "    <tr>\n",
       "      <th>1</th>\n",
       "      <td>25.888067</td>\n",
       "      <td>-0.214064</td>\n",
       "      <td>0.108493</td>\n",
       "      <td>0.453349</td>\n",
       "      <td>-29.477091</td>\n",
       "      <td>-37.132110</td>\n",
       "      <td>973.000000</td>\n",
       "      <td>0.000000</td>\n",
       "      <td>2</td>\n",
       "    </tr>\n",
       "    <tr>\n",
       "      <th>2</th>\n",
       "      <td>27.365272</td>\n",
       "      <td>0.218577</td>\n",
       "      <td>0.086699</td>\n",
       "      <td>0.475332</td>\n",
       "      <td>-27.725745</td>\n",
       "      <td>-33.871100</td>\n",
       "      <td>978.000000</td>\n",
       "      <td>0.000000</td>\n",
       "      <td>2</td>\n",
       "    </tr>\n",
       "    <tr>\n",
       "      <th>3</th>\n",
       "      <td>28.973237</td>\n",
       "      <td>0.606604</td>\n",
       "      <td>0.105519</td>\n",
       "      <td>0.437991</td>\n",
       "      <td>-18.579082</td>\n",
       "      <td>-23.574650</td>\n",
       "      <td>978.375977</td>\n",
       "      <td>0.420843</td>\n",
       "      <td>2</td>\n",
       "    </tr>\n",
       "    <tr>\n",
       "      <th>4</th>\n",
       "      <td>26.500438</td>\n",
       "      <td>0.223499</td>\n",
       "      <td>0.082555</td>\n",
       "      <td>0.343779</td>\n",
       "      <td>-29.434152</td>\n",
       "      <td>-35.030790</td>\n",
       "      <td>995.644409</td>\n",
       "      <td>0.356934</td>\n",
       "      <td>2</td>\n",
       "    </tr>\n",
       "    <tr>\n",
       "      <th>...</th>\n",
       "      <td>...</td>\n",
       "      <td>...</td>\n",
       "      <td>...</td>\n",
       "      <td>...</td>\n",
       "      <td>...</td>\n",
       "      <td>...</td>\n",
       "      <td>...</td>\n",
       "      <td>...</td>\n",
       "      <td>...</td>\n",
       "    </tr>\n",
       "    <tr>\n",
       "      <th>60</th>\n",
       "      <td>32.407493</td>\n",
       "      <td>0.576547</td>\n",
       "      <td>0.027932</td>\n",
       "      <td>0.107936</td>\n",
       "      <td>-17.556799</td>\n",
       "      <td>-22.219921</td>\n",
       "      <td>1006.894592</td>\n",
       "      <td>1.044033</td>\n",
       "      <td>3</td>\n",
       "    </tr>\n",
       "    <tr>\n",
       "      <th>61</th>\n",
       "      <td>31.685863</td>\n",
       "      <td>0.569974</td>\n",
       "      <td>0.034852</td>\n",
       "      <td>0.146156</td>\n",
       "      <td>-15.867021</td>\n",
       "      <td>-22.176266</td>\n",
       "      <td>1006.541565</td>\n",
       "      <td>1.413746</td>\n",
       "      <td>3</td>\n",
       "    </tr>\n",
       "    <tr>\n",
       "      <th>62</th>\n",
       "      <td>31.596995</td>\n",
       "      <td>0.557604</td>\n",
       "      <td>0.037536</td>\n",
       "      <td>0.187196</td>\n",
       "      <td>-17.135043</td>\n",
       "      <td>-22.423275</td>\n",
       "      <td>1006.990845</td>\n",
       "      <td>0.682176</td>\n",
       "      <td>3</td>\n",
       "    </tr>\n",
       "    <tr>\n",
       "      <th>63</th>\n",
       "      <td>30.785215</td>\n",
       "      <td>0.619958</td>\n",
       "      <td>0.032226</td>\n",
       "      <td>0.117009</td>\n",
       "      <td>-16.813304</td>\n",
       "      <td>-21.722243</td>\n",
       "      <td>1004.050232</td>\n",
       "      <td>1.059896</td>\n",
       "      <td>3</td>\n",
       "    </tr>\n",
       "    <tr>\n",
       "      <th>64</th>\n",
       "      <td>30.412462</td>\n",
       "      <td>0.609104</td>\n",
       "      <td>0.033604</td>\n",
       "      <td>0.129948</td>\n",
       "      <td>-16.126492</td>\n",
       "      <td>-21.196252</td>\n",
       "      <td>1001.960327</td>\n",
       "      <td>2.064841</td>\n",
       "      <td>3</td>\n",
       "    </tr>\n",
       "  </tbody>\n",
       "</table>\n",
       "<p>65 rows × 9 columns</p>\n",
       "</div>"
      ],
      "text/plain": [
       "          LST      NDWI   NDVI_SD  NDVI_range         VV         VH   \n",
       "0   27.552753 -0.186182  0.086691    0.360963 -32.101193 -37.080419  \\\n",
       "1   25.888067 -0.214064  0.108493    0.453349 -29.477091 -37.132110   \n",
       "2   27.365272  0.218577  0.086699    0.475332 -27.725745 -33.871100   \n",
       "3   28.973237  0.606604  0.105519    0.437991 -18.579082 -23.574650   \n",
       "4   26.500438  0.223499  0.082555    0.343779 -29.434152 -35.030790   \n",
       "..        ...       ...       ...         ...        ...        ...   \n",
       "60  32.407493  0.576547  0.027932    0.107936 -17.556799 -22.219921   \n",
       "61  31.685863  0.569974  0.034852    0.146156 -15.867021 -22.176266   \n",
       "62  31.596995  0.557604  0.037536    0.187196 -17.135043 -22.423275   \n",
       "63  30.785215  0.619958  0.032226    0.117009 -16.813304 -21.722243   \n",
       "64  30.412462  0.609104  0.033604    0.129948 -16.126492 -21.196252   \n",
       "\n",
       "            DEM     Slope  class  \n",
       "0    973.000000  0.000000      2  \n",
       "1    973.000000  0.000000      2  \n",
       "2    978.000000  0.000000      2  \n",
       "3    978.375977  0.420843      2  \n",
       "4    995.644409  0.356934      2  \n",
       "..          ...       ...    ...  \n",
       "60  1006.894592  1.044033      3  \n",
       "61  1006.541565  1.413746      3  \n",
       "62  1006.990845  0.682176      3  \n",
       "63  1004.050232  1.059896      3  \n",
       "64  1001.960327  2.064841      3  \n",
       "\n",
       "[65 rows x 9 columns]"
      ]
     },
     "execution_count": 17,
     "metadata": {},
     "output_type": "execute_result"
    }
   ],
   "source": [
    "year = 2020\n",
    "df_samples = pd.DataFrame(training_data_by_year[year]['X'], columns=layer_names)\n",
    "df_samples['class'] = training_data_by_year[year]['y']\n",
    "df_samples.iloc[:-10]"
   ]
  },
  {
   "cell_type": "markdown",
   "id": "fb6a4949",
   "metadata": {},
   "source": [
    "#### 4.3 Stratified 5-fold Cross validation with Random Forest  \n",
    "Training the random forest model using the training dataset \n"
   ]
  },
  {
   "cell_type": "markdown",
   "id": "8a2c1e74",
   "metadata": {},
   "source": [
    "Combined Train/Test and Cross validation training of the model"
   ]
  },
  {
   "cell_type": "code",
   "execution_count": 34,
   "id": "167ac561",
   "metadata": {},
   "outputs": [
    {
     "name": "stdout",
     "output_type": "stream",
     "text": [
      "Train/Val Samples: 60 | Test Samples: 15\n",
      "Fold 1 Accuracy: 0.6667\n",
      "Fold 2 Accuracy: 0.9167\n",
      "Fold 3 Accuracy: 1.0000\n",
      "Fold 4 Accuracy: 0.8333\n",
      "Fold 5 Accuracy: 1.0000\n",
      "\n",
      "=== Cross-Validation Results ===\n",
      "CV Accuracy: 0.8833\n",
      "\n",
      "Classification Report:\n",
      "              precision    recall  f1-score   support\n",
      "\n",
      "      forest       0.77      0.77      0.77        13\n",
      "   rangeland       0.75      0.75      0.75         8\n",
      "       water       1.00      0.93      0.96        14\n",
      "     wetland       0.92      0.96      0.94        25\n",
      "\n",
      "    accuracy                           0.88        60\n",
      "   macro avg       0.86      0.85      0.86        60\n",
      "weighted avg       0.88      0.88      0.88        60\n",
      "\n",
      "Confusion Matrix (Cross-Validation):\n"
     ]
    },
    {
     "data": {
      "image/png": "[encoded data removed]",
      "text/plain": [
       "<Figure size 640x480 with 2 Axes>"
      ]
     },
     "metadata": {},
     "output_type": "display_data"
    },
    {
     "name": "stdout",
     "output_type": "stream",
     "text": [
      "\n",
      "=== Final Test Set Evaluation ===\n",
      "Test Accuracy: 0.8000\n",
      "\n",
      "Classification Report:\n",
      "              precision    recall  f1-score   support\n",
      "\n",
      "      forest       1.00      0.67      0.80         3\n",
      "   rangeland       0.67      1.00      0.80         2\n",
      "       water       0.80      1.00      0.89         4\n",
      "     wetland       0.80      0.67      0.73         6\n",
      "\n",
      "    accuracy                           0.80        15\n",
      "   macro avg       0.82      0.83      0.80        15\n",
      "weighted avg       0.82      0.80      0.79        15\n",
      "\n",
      "Confusion Matrix (Test Set):\n"
     ]
    },
    {
     "data": {
      "image/png": "[encoded data removed]",
      "text/plain": [
       "<Figure size 640x480 with 2 Axes>"
      ]
     },
     "metadata": {},
     "output_type": "display_data"
    }
   ],
   "source": [
    "year = 2020\n",
    "data = training_data_by_year[year]\n",
    "X, y, le = data[\"X\"], data[\"y\"], data[\"label_encoder\"]\n",
    "\n",
    "# divide into train/validation and test sets\n",
    "X_train_val, X_test, y_train_val, y_test = train_test_split(\n",
    "    X, y, test_size=0.2, stratify=y, random_state=42\n",
    ")\n",
    "\n",
    "print(f\"Train/Val Samples: {len(X_train_val)} | Test Samples: {len(X_test)}\")\n",
    "\n",
    "# 5-fold cross-validation on training set\n",
    "skf = StratifiedKFold(n_splits=5, shuffle=True, random_state=42)\n",
    "cv_true, cv_pred = [], []\n",
    "\n",
    "for i, (train_idx, val_idx) in enumerate(skf.split(X_train_val, y_train_val), 1):\n",
    "    rf = RandomForestClassifier(n_estimators=100, random_state=42)\n",
    "    rf.fit(X_train_val[train_idx], y_train_val[train_idx])\n",
    "    y_val_pred = rf.predict(X_train_val[val_idx])\n",
    "    \n",
    "    acc = accuracy_score(y_train_val[val_idx], y_val_pred)\n",
    "    print(f\"Fold {i} Accuracy: {acc:.4f}\")\n",
    "    \n",
    "    cv_true.extend(y_train_val[val_idx])\n",
    "    cv_pred.extend(y_val_pred)\n",
    "\n",
    "print(f\"\\n=== Cross-Validation Results ===\")\n",
    "print(f\"CV Accuracy: {accuracy_score(cv_true, cv_pred):.4f}\")\n",
    "print(\"\\nClassification Report:\")\n",
    "print(classification_report(cv_true, cv_pred, target_names=le.classes_))\n",
    "\n",
    "# Cross-validation confusion matrix\n",
    "print(\"Confusion Matrix (Cross-Validation):\")\n",
    "ConfusionMatrixDisplay(\n",
    "    confusion_matrix(cv_true, cv_pred), display_labels=le.classes_\n",
    ").plot(cmap=\"Blues\")\n",
    "plt.title(\"Cross-Validation Confusion Matrix\")\n",
    "plt.show()\n",
    "\n",
    "# final model training on combined train/val set\n",
    "final_rf = RandomForestClassifier(n_estimators=200, random_state=42)\n",
    "final_rf.fit(X_train_val, y_train_val)\n",
    "y_test_pred = final_rf.predict(X_test)\n",
    "\n",
    "print(f\"\\n=== Final Test Set Evaluation ===\")\n",
    "print(f\"Test Accuracy: {accuracy_score(y_test, y_test_pred):.4f}\")\n",
    "print(\"\\nClassification Report:\")\n",
    "print(classification_report(y_test, y_test_pred, target_names=le.classes_))\n",
    "\n",
    "# final test set confusion matrix\n",
    "print(\"Confusion Matrix (Test Set):\")\n",
    "ConfusionMatrixDisplay(\n",
    "    confusion_matrix(y_test, y_test_pred), display_labels=le.classes_\n",
    ").plot(cmap=\"Blues\")\n",
    "plt.title(\"Cross-Validation Confusion Matrix\")\n",
    "plt.show()\n"
   ]
  },
  {
   "cell_type": "markdown",
   "id": "e3b72e7f",
   "metadata": {},
   "source": [
    "#### 4.4 Prediction   \n",
    "Prediction of teh wetland classess based on teh model and estimation of area covered by each class in Ha"
   ]
  },
  {
   "cell_type": "code",
   "execution_count": 35,
   "id": "42c9d8a9",
   "metadata": {},
   "outputs": [
    {
     "name": "stdout",
     "output_type": "stream",
     "text": [
      "\n",
      "=== Predicting for year 2020 ===\n",
      "Estimated area per class (ha) for 2020:\n",
      "  wetland: 112,353.95 ha\n",
      "  forest: 471,377.38 ha\n",
      "  water: 30,440.11 ha\n",
      "  rangeland: 169,074.77 ha\n"
     ]
    }
   ],
   "source": [
    "print(f\"\\n=== Predicting for year {year} ===\")\n",
    "\n",
    "# Load data and final trained model \n",
    "data = training_data_by_year[year]\n",
    "X, y, le = data[\"X\"], data[\"y\"], data[\"label_encoder\"]\n",
    "\n",
    "# Train final model on all available data\n",
    "rf = RandomForestClassifier(n_estimators=100, random_state=42)\n",
    "rf.fit(X, y)\n",
    "\n",
    "# Prepare input stack for raster prediction \n",
    "\n",
    "def load_layer(path):\n",
    "    with rasterio.open(path) as src:\n",
    "        arr = src.read(1)\n",
    "        return arr if arr.shape == dem.shape else None\n",
    "\n",
    "file_map = {\n",
    "    \"LST\": f\"LST/LST_mean_{year}.tif\",\n",
    "    \"NDWI\": f\"NDWI_1/NDWI_Max_{year}.tif\",\n",
    "    \"NDVI_SD\": f\"NDVI/NDVI_SD_{year}.tif\",\n",
    "    \"NDVI_range\": f\"NDVI/NDVI_Range_{year}.tif\",\n",
    "}\n",
    "\n",
    "# Load layers in order\n",
    "layers = [load_layer(os.path.join(base_dir, path)) for path in file_map.values()]\n",
    "layers += [vv_vh_by_year[year].get(band) for band in [\"VV\", \"VH\"]]\n",
    "layers += [dem.read(1), slope.read(1)]\n",
    "layers = [layer for layer in layers if layer is not None]\n",
    "\n",
    "# Stack layers and prepare for prediction \n",
    "stack = np.stack(layers, axis=-1)\n",
    "flat = stack.reshape(-1, stack.shape[-1])\n",
    "valid_mask = ~np.isnan(flat).any(axis=1)\n",
    "\n",
    "# Predict using trained model \n",
    "pred = np.full(flat.shape[0], -1, dtype=int)\n",
    "pred[valid_mask] = rf.predict(flat[valid_mask])\n",
    "pred_img = pred.reshape(stack.shape[:2])\n",
    "\n",
    "# Mask out predictions outside AOI\n",
    "pred_img[~aoi_mask] = -1\n",
    "\n",
    "#  Area estimation per class \n",
    "counts = Counter(pred_img[pred_img >= 0])\n",
    "\n",
    "# Pixel area (hectares)\n",
    "lat = (extent[1] + extent[3]) / 2\n",
    "deg_to_m = 111320  # ~meters per degree at equator\n",
    "pixel_w = abs(extent[2] - extent[0]) / pred_img.shape[1]\n",
    "pixel_h = abs(extent[3] - extent[1]) / pred_img.shape[0]\n",
    "pixel_area_ha = (pixel_w * deg_to_m * math.cos(math.radians(lat))) * (pixel_h * deg_to_m) / 10_000\n",
    "\n",
    "# Class area mapping\n",
    "class_areas = {\n",
    "    le.inverse_transform([cls])[0]: count * pixel_area_ha\n",
    "    for cls, count in counts.items()\n",
    "}\n",
    "\n",
    "# === Output ===\n",
    "print(f\"Estimated area per class (ha) for {year}:\")\n",
    "for cls, area in class_areas.items():\n",
    "    print(f\"  {cls}: {area:,.2f} ha\")\n"
   ]
  },
  {
   "cell_type": "code",
   "execution_count": 39,
   "id": "1221ece3",
   "metadata": {},
   "outputs": [
    {
     "data": {
      "image/png": "[encoded data removed]",
      "text/plain": [
       "<Figure size 1200x600 with 2 Axes>"
      ]
     },
     "metadata": {},
     "output_type": "display_data"
    },
    {
     "name": "stdout",
     "output_type": "stream",
     "text": [
      "Area per class:\n",
      "forest: 471,377.38 ha (4,713,773,771 m²)\n",
      "rangeland: 169,074.77 ha (1,690,747,700 m²)\n",
      "water: 30,440.11 ha (304,401,059 m²)\n",
      "wetland: 112,353.95 ha (1,123,539,534 m²)\n"
     ]
    }
   ],
   "source": [
    "# Setup colormap\n",
    "labels = le.classes_\n",
    "cmap = ListedColormap(['#145a32', '#abb2b9', '#3498db', '#f39c12'][:len(labels)])\n",
    "norm = BoundaryNorm(np.arange(len(labels)+1)-0.5, cmap.N)\n",
    "\n",
    "# Plot\n",
    "plot_img = np.ma.masked_where(pred_img<0, pred_img)\n",
    "plt.figure(figsize=(12, 6))\n",
    "im = plt.imshow(plot_img, cmap=cmap, norm=norm, extent=extent, origin='upper')\n",
    "plt.xlabel(\"Longitude\"), plt.ylabel(\"Latitude\")\n",
    "plt.title(f\"Classification {year}\"), plt.gca().set_aspect('equal')\n",
    "cbar = plt.colorbar(im, ticks=np.arange(len(labels)))\n",
    "cbar.ax.set_yticklabels(labels), cbar.set_label(\"Class\")\n",
    "plt.tight_layout(), plt.show()\n",
    "\n",
    "#Print area per class\n",
    "print(\"Area per class:\")\n",
    "for lbl in labels:\n",
    "    ha = class_areas.get(lbl, 0)\n",
    "    print(f\"{lbl}: {ha:,.2f} ha ({ha * 10_000:,.0f} m²)\")\n"
   ]
  }
 ],
 "metadata": {
  "kernelspec": {
   "display_name": "zfl_wetland",
   "language": "python",
   "name": "python3"
  },
  "language_info": {
   "codemirror_mode": {
    "name": "ipython",
    "version": 3
   },
   "file_extension": ".py",
   "mimetype": "text/x-python",
   "name": "python",
   "nbconvert_exporter": "python",
   "pygments_lexer": "ipython3",
   "version": "3.10.18"
  }
 },
 "nbformat": 4,
 "nbformat_minor": 5
}
