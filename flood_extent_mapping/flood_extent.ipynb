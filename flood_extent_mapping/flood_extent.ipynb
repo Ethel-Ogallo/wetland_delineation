{
 "cells": [
  {
   "cell_type": "code",
   "execution_count": 1,
   "id": "fe1ca2d9",
   "metadata": {},
   "outputs": [],
   "source": [
    "import openeo\n",
    "from openeo.processes import *\n",
    "import geopandas as gpd"
   ]
  },
  {
   "cell_type": "code",
   "execution_count": 45,
   "id": "49a23a23",
   "metadata": {},
   "outputs": [
    {
     "name": "stdout",
     "output_type": "stream",
     "text": [
      "Authenticated using refresh token.\n"
     ]
    }
   ],
   "source": [
    "# connect to the openEO service\n",
    "conn = openeo.connect(\"openeo.cloud\").authenticate_oidc()\n"
   ]
  },
  {
   "cell_type": "code",
   "execution_count": null,
   "id": "57d3dd8d",
   "metadata": {},
   "outputs": [],
   "source": [
    "# describe the GFM collection\n",
    "conn.describe_collection(\"GFM\")"
   ]
  },
  {
   "cell_type": "code",
   "execution_count": 47,
   "id": "8d8454e2",
   "metadata": {},
   "outputs": [],
   "source": [
    "# set parameters\n",
    "# extract spatial extent from aoi shapefile\n",
    "bbox = gpd.read_file(r\"Data\\Data\\baringo_bbox\\baringo_bbox.shp\").total_bounds\n",
    "spatial_extent = {\n",
    "    \"west\": bbox[0],\n",
    "    \"south\": bbox[1],\n",
    "    \"east\": bbox[2],\n",
    "    \"north\": bbox[3]}\n",
    "\n",
    "# temporal extent from 2018-2025\n",
    "temporal_extent = [\"2018-02-01\", \"2018-03-01\"]  #example 1 month\n",
    "\n",
    "\n",
    "# define which collection to use\n",
    "collection = \"GFM\"\n",
    "\n",
    "# load the collection with the specified spatial and temporal extents\n",
    "gfm_data = conn.load_collection(\n",
    "    collection, \n",
    "    spatial_extent=spatial_extent, \n",
    "    temporal_extent=temporal_extent, \n",
    "    bands = [\"ensemble_flood_extent\"]\n",
    ")\n",
    "\n",
    "# apply a reducer to sum the flood extent over time\n",
    "gfm_sum = gfm_data.reduce_dimension(dimension=\"t\", reducer=sum)\n",
    "\n",
    "# save the result as a GeoTIFF file with a specified tile grid\n",
    "gfm_sum_tiff = gfm_sum.save_result(format=\"GTiff\", options={\"tile_grid\": \"wgs84-1degree\"})\n"
   ]
  },
  {
   "cell_type": "code",
   "execution_count": 48,
   "id": "98b3932a",
   "metadata": {},
   "outputs": [
    {
     "ename": "OpenEoApiError",
     "evalue": "[500] Internal: Failed to create job on backend 'eodc': OpenEoApiError('[500] Internal Error: (psycopg2.OperationalError) connection to server at \"10.152.183.184\", port 5432 failed: FATAL:  remaining connection slots are reserved for non-replication superuser connections\\n\\n(Background on this error at: https://sqlalche.me/e/20/e3q8)') (ref: r-25070212394047479868f66674aedc2e)",
     "output_type": "error",
     "traceback": [
      "\u001b[1;31m---------------------------------------------------------------------------\u001b[0m",
      "\u001b[1;31mOpenEoApiError\u001b[0m                            Traceback (most recent call last)",
      "Cell \u001b[1;32mIn[48], line 2\u001b[0m\n\u001b[0;32m      1\u001b[0m \u001b[38;5;66;03m# create and start a job to execute the process\u001b[39;00m\n\u001b[1;32m----> 2\u001b[0m job \u001b[38;5;241m=\u001b[39m \u001b[43mgfm_sum_tiff\u001b[49m\u001b[38;5;241;43m.\u001b[39;49m\u001b[43mcreate_job\u001b[49m\u001b[43m(\u001b[49m\u001b[43mtitle\u001b[49m\u001b[43m \u001b[49m\u001b[38;5;241;43m=\u001b[39;49m\u001b[43m \u001b[49m\u001b[38;5;124;43m\"\u001b[39;49m\u001b[38;5;124;43mflood_extent\u001b[39;49m\u001b[38;5;124;43m\"\u001b[39;49m\u001b[43m)\u001b[49m\u001b[38;5;241m.\u001b[39mstart_job()\n",
      "File \u001b[1;32mc:\\Users\\Ethel Ogallo\\anaconda3\\envs\\zfl_flood\\lib\\site-packages\\openeo\\rest\\stac_resource.py:160\u001b[0m, in \u001b[0;36mStacResource.create_job\u001b[1;34m(self, title, description, plan, budget, additional, job_options, validate, log_level)\u001b[0m\n\u001b[0;32m    123\u001b[0m \u001b[38;5;28;01mdef\u001b[39;00m\u001b[38;5;250m \u001b[39m\u001b[38;5;21mcreate_job\u001b[39m(\n\u001b[0;32m    124\u001b[0m     \u001b[38;5;28mself\u001b[39m,\n\u001b[0;32m    125\u001b[0m     \u001b[38;5;241m*\u001b[39m,\n\u001b[1;32m   (...)\u001b[0m\n\u001b[0;32m    133\u001b[0m     log_level: Optional[\u001b[38;5;28mstr\u001b[39m] \u001b[38;5;241m=\u001b[39m \u001b[38;5;28;01mNone\u001b[39;00m,\n\u001b[0;32m    134\u001b[0m ) \u001b[38;5;241m-\u001b[39m\u001b[38;5;241m>\u001b[39m BatchJob:\n\u001b[0;32m    135\u001b[0m \u001b[38;5;250m    \u001b[39m\u001b[38;5;124;03m\"\"\"\u001b[39;00m\n\u001b[0;32m    136\u001b[0m \u001b[38;5;124;03m    Send the underlying process graph to the backend\u001b[39;00m\n\u001b[0;32m    137\u001b[0m \u001b[38;5;124;03m    to create an openEO batch job\u001b[39;00m\n\u001b[1;32m   (...)\u001b[0m\n\u001b[0;32m    158\u001b[0m \u001b[38;5;124;03m    :return: Handle to the job created at the backend.\u001b[39;00m\n\u001b[0;32m    159\u001b[0m \u001b[38;5;124;03m    \"\"\"\u001b[39;00m\n\u001b[1;32m--> 160\u001b[0m     \u001b[38;5;28;01mreturn\u001b[39;00m \u001b[38;5;28;43mself\u001b[39;49m\u001b[38;5;241;43m.\u001b[39;49m\u001b[43m_connection\u001b[49m\u001b[38;5;241;43m.\u001b[39;49m\u001b[43mcreate_job\u001b[49m\u001b[43m(\u001b[49m\n\u001b[0;32m    161\u001b[0m \u001b[43m        \u001b[49m\u001b[43mprocess_graph\u001b[49m\u001b[38;5;241;43m=\u001b[39;49m\u001b[38;5;28;43mself\u001b[39;49m\u001b[38;5;241;43m.\u001b[39;49m\u001b[43mflat_graph\u001b[49m\u001b[43m(\u001b[49m\u001b[43m)\u001b[49m\u001b[43m,\u001b[49m\n\u001b[0;32m    162\u001b[0m \u001b[43m        \u001b[49m\u001b[43mtitle\u001b[49m\u001b[38;5;241;43m=\u001b[39;49m\u001b[43mtitle\u001b[49m\u001b[43m,\u001b[49m\n\u001b[0;32m    163\u001b[0m \u001b[43m        \u001b[49m\u001b[43mdescription\u001b[49m\u001b[38;5;241;43m=\u001b[39;49m\u001b[43mdescription\u001b[49m\u001b[43m,\u001b[49m\n\u001b[0;32m    164\u001b[0m \u001b[43m        \u001b[49m\u001b[43mplan\u001b[49m\u001b[38;5;241;43m=\u001b[39;49m\u001b[43mplan\u001b[49m\u001b[43m,\u001b[49m\n\u001b[0;32m    165\u001b[0m \u001b[43m        \u001b[49m\u001b[43mbudget\u001b[49m\u001b[38;5;241;43m=\u001b[39;49m\u001b[43mbudget\u001b[49m\u001b[43m,\u001b[49m\n\u001b[0;32m    166\u001b[0m \u001b[43m        \u001b[49m\u001b[43mvalidate\u001b[49m\u001b[38;5;241;43m=\u001b[39;49m\u001b[43mvalidate\u001b[49m\u001b[43m,\u001b[49m\n\u001b[0;32m    167\u001b[0m \u001b[43m        \u001b[49m\u001b[43madditional\u001b[49m\u001b[38;5;241;43m=\u001b[39;49m\u001b[43madditional\u001b[49m\u001b[43m,\u001b[49m\n\u001b[0;32m    168\u001b[0m \u001b[43m        \u001b[49m\u001b[43mjob_options\u001b[49m\u001b[38;5;241;43m=\u001b[39;49m\u001b[43mjob_options\u001b[49m\u001b[43m,\u001b[49m\n\u001b[0;32m    169\u001b[0m \u001b[43m        \u001b[49m\u001b[43mlog_level\u001b[49m\u001b[38;5;241;43m=\u001b[39;49m\u001b[43mlog_level\u001b[49m\u001b[43m,\u001b[49m\n\u001b[0;32m    170\u001b[0m \u001b[43m    \u001b[49m\u001b[43m)\u001b[49m\n",
      "File \u001b[1;32mc:\\Users\\Ethel Ogallo\\anaconda3\\envs\\zfl_flood\\lib\\site-packages\\openeo\\rest\\connection.py:1774\u001b[0m, in \u001b[0;36mConnection.create_job\u001b[1;34m(self, process_graph, title, description, plan, budget, additional, job_options, validate, log_level)\u001b[0m\n\u001b[0;32m   1766\u001b[0m pg_with_metadata \u001b[38;5;241m=\u001b[39m \u001b[38;5;28mself\u001b[39m\u001b[38;5;241m.\u001b[39m_build_request_with_process_graph(\n\u001b[0;32m   1767\u001b[0m     process_graph\u001b[38;5;241m=\u001b[39mprocess_graph,\n\u001b[0;32m   1768\u001b[0m     additional\u001b[38;5;241m=\u001b[39madditional,\n\u001b[0;32m   1769\u001b[0m     job_options\u001b[38;5;241m=\u001b[39mjob_options,\n\u001b[0;32m   1770\u001b[0m     \u001b[38;5;241m*\u001b[39m\u001b[38;5;241m*\u001b[39mdict_no_none(title\u001b[38;5;241m=\u001b[39mtitle, description\u001b[38;5;241m=\u001b[39mdescription, plan\u001b[38;5;241m=\u001b[39mplan, budget\u001b[38;5;241m=\u001b[39mbudget, log_level\u001b[38;5;241m=\u001b[39mlog_level),\n\u001b[0;32m   1771\u001b[0m )\n\u001b[0;32m   1773\u001b[0m \u001b[38;5;28mself\u001b[39m\u001b[38;5;241m.\u001b[39m_preflight_validation(pg_with_metadata\u001b[38;5;241m=\u001b[39mpg_with_metadata, validate\u001b[38;5;241m=\u001b[39mvalidate)\n\u001b[1;32m-> 1774\u001b[0m response \u001b[38;5;241m=\u001b[39m \u001b[38;5;28;43mself\u001b[39;49m\u001b[38;5;241;43m.\u001b[39;49m\u001b[43mpost\u001b[49m\u001b[43m(\u001b[49m\u001b[38;5;124;43m\"\u001b[39;49m\u001b[38;5;124;43m/jobs\u001b[39;49m\u001b[38;5;124;43m\"\u001b[39;49m\u001b[43m,\u001b[49m\u001b[43m \u001b[49m\u001b[43mjson\u001b[49m\u001b[38;5;241;43m=\u001b[39;49m\u001b[43mpg_with_metadata\u001b[49m\u001b[43m,\u001b[49m\u001b[43m \u001b[49m\u001b[43mexpected_status\u001b[49m\u001b[38;5;241;43m=\u001b[39;49m\u001b[43mHTTP_201_CREATED\u001b[49m\u001b[43m)\u001b[49m\n\u001b[0;32m   1776\u001b[0m job_id \u001b[38;5;241m=\u001b[39m \u001b[38;5;28;01mNone\u001b[39;00m\n\u001b[0;32m   1777\u001b[0m \u001b[38;5;28;01mif\u001b[39;00m \u001b[38;5;124m\"\u001b[39m\u001b[38;5;124mopeneo-identifier\u001b[39m\u001b[38;5;124m\"\u001b[39m \u001b[38;5;129;01min\u001b[39;00m response\u001b[38;5;241m.\u001b[39mheaders:\n",
      "File \u001b[1;32mc:\\Users\\Ethel Ogallo\\anaconda3\\envs\\zfl_flood\\lib\\site-packages\\openeo\\rest\\_connection.py:232\u001b[0m, in \u001b[0;36mRestApiConnection.post\u001b[1;34m(self, path, json, **kwargs)\u001b[0m\n\u001b[0;32m    224\u001b[0m \u001b[38;5;28;01mdef\u001b[39;00m\u001b[38;5;250m \u001b[39m\u001b[38;5;21mpost\u001b[39m(\u001b[38;5;28mself\u001b[39m, path: \u001b[38;5;28mstr\u001b[39m, json: Optional[\u001b[38;5;28mdict\u001b[39m] \u001b[38;5;241m=\u001b[39m \u001b[38;5;28;01mNone\u001b[39;00m, \u001b[38;5;241m*\u001b[39m\u001b[38;5;241m*\u001b[39mkwargs) \u001b[38;5;241m-\u001b[39m\u001b[38;5;241m>\u001b[39m Response:\n\u001b[0;32m    225\u001b[0m \u001b[38;5;250m    \u001b[39m\u001b[38;5;124;03m\"\"\"\u001b[39;00m\n\u001b[0;32m    226\u001b[0m \u001b[38;5;124;03m    Do POST request to REST API.\u001b[39;00m\n\u001b[0;32m    227\u001b[0m \n\u001b[1;32m   (...)\u001b[0m\n\u001b[0;32m    230\u001b[0m \u001b[38;5;124;03m    :return: response: Response\u001b[39;00m\n\u001b[0;32m    231\u001b[0m \u001b[38;5;124;03m    \"\"\"\u001b[39;00m\n\u001b[1;32m--> 232\u001b[0m     \u001b[38;5;28;01mreturn\u001b[39;00m \u001b[38;5;28mself\u001b[39m\u001b[38;5;241m.\u001b[39mrequest(\u001b[38;5;124m\"\u001b[39m\u001b[38;5;124mpost\u001b[39m\u001b[38;5;124m\"\u001b[39m, path\u001b[38;5;241m=\u001b[39mpath, json\u001b[38;5;241m=\u001b[39mjson, allow_redirects\u001b[38;5;241m=\u001b[39m\u001b[38;5;28;01mFalse\u001b[39;00m, \u001b[38;5;241m*\u001b[39m\u001b[38;5;241m*\u001b[39mkwargs)\n",
      "File \u001b[1;32mc:\\Users\\Ethel Ogallo\\anaconda3\\envs\\zfl_flood\\lib\\site-packages\\openeo\\rest\\connection.py:682\u001b[0m, in \u001b[0;36mConnection.request\u001b[1;34m(self, method, path, headers, auth, check_error, expected_status, **kwargs)\u001b[0m\n\u001b[0;32m    675\u001b[0m     \u001b[38;5;28;01mreturn\u001b[39;00m \u001b[38;5;28msuper\u001b[39m(Connection, \u001b[38;5;28mself\u001b[39m)\u001b[38;5;241m.\u001b[39mrequest(\n\u001b[0;32m    676\u001b[0m         method\u001b[38;5;241m=\u001b[39mmethod, path\u001b[38;5;241m=\u001b[39mpath, headers\u001b[38;5;241m=\u001b[39mheaders, auth\u001b[38;5;241m=\u001b[39mauth,\n\u001b[0;32m    677\u001b[0m         check_error\u001b[38;5;241m=\u001b[39mcheck_error, expected_status\u001b[38;5;241m=\u001b[39mexpected_status, \u001b[38;5;241m*\u001b[39m\u001b[38;5;241m*\u001b[39mkwargs,\n\u001b[0;32m    678\u001b[0m     )\n\u001b[0;32m    680\u001b[0m \u001b[38;5;28;01mtry\u001b[39;00m:\n\u001b[0;32m    681\u001b[0m     \u001b[38;5;66;03m# Initial request attempt\u001b[39;00m\n\u001b[1;32m--> 682\u001b[0m     \u001b[38;5;28;01mreturn\u001b[39;00m \u001b[43m_request\u001b[49m\u001b[43m(\u001b[49m\u001b[43m)\u001b[49m\n\u001b[0;32m    683\u001b[0m \u001b[38;5;28;01mexcept\u001b[39;00m OpenEoApiError \u001b[38;5;28;01mas\u001b[39;00m api_exc:\n\u001b[0;32m    684\u001b[0m     \u001b[38;5;28;01mif\u001b[39;00m (\n\u001b[0;32m    685\u001b[0m         api_exc\u001b[38;5;241m.\u001b[39mhttp_status_code \u001b[38;5;129;01min\u001b[39;00m {HTTP_401_UNAUTHORIZED, HTTP_403_FORBIDDEN}\n\u001b[0;32m    686\u001b[0m         \u001b[38;5;129;01mand\u001b[39;00m api_exc\u001b[38;5;241m.\u001b[39mcode \u001b[38;5;241m==\u001b[39m \u001b[38;5;124m\"\u001b[39m\u001b[38;5;124mTokenInvalid\u001b[39m\u001b[38;5;124m\"\u001b[39m\n\u001b[0;32m    687\u001b[0m     ):\n\u001b[0;32m    688\u001b[0m         \u001b[38;5;66;03m# Auth token expired: can we refresh?\u001b[39;00m\n",
      "File \u001b[1;32mc:\\Users\\Ethel Ogallo\\anaconda3\\envs\\zfl_flood\\lib\\site-packages\\openeo\\rest\\connection.py:675\u001b[0m, in \u001b[0;36mConnection.request.<locals>._request\u001b[1;34m()\u001b[0m\n\u001b[0;32m    674\u001b[0m \u001b[38;5;28;01mdef\u001b[39;00m\u001b[38;5;250m \u001b[39m\u001b[38;5;21m_request\u001b[39m():\n\u001b[1;32m--> 675\u001b[0m     \u001b[38;5;28;01mreturn\u001b[39;00m \u001b[38;5;28msuper\u001b[39m(Connection, \u001b[38;5;28mself\u001b[39m)\u001b[38;5;241m.\u001b[39mrequest(\n\u001b[0;32m    676\u001b[0m         method\u001b[38;5;241m=\u001b[39mmethod, path\u001b[38;5;241m=\u001b[39mpath, headers\u001b[38;5;241m=\u001b[39mheaders, auth\u001b[38;5;241m=\u001b[39mauth,\n\u001b[0;32m    677\u001b[0m         check_error\u001b[38;5;241m=\u001b[39mcheck_error, expected_status\u001b[38;5;241m=\u001b[39mexpected_status, \u001b[38;5;241m*\u001b[39m\u001b[38;5;241m*\u001b[39mkwargs,\n\u001b[0;32m    678\u001b[0m     )\n",
      "File \u001b[1;32mc:\\Users\\Ethel Ogallo\\anaconda3\\envs\\zfl_flood\\lib\\site-packages\\openeo\\rest\\_connection.py:141\u001b[0m, in \u001b[0;36mRestApiConnection.request\u001b[1;34m(self, method, path, params, headers, auth, check_error, expected_status, **kwargs)\u001b[0m\n\u001b[0;32m    139\u001b[0m expected_status \u001b[38;5;241m=\u001b[39m ensure_list(expected_status) \u001b[38;5;28;01mif\u001b[39;00m expected_status \u001b[38;5;28;01melse\u001b[39;00m []\n\u001b[0;32m    140\u001b[0m \u001b[38;5;28;01mif\u001b[39;00m check_error \u001b[38;5;129;01mand\u001b[39;00m status \u001b[38;5;241m>\u001b[39m\u001b[38;5;241m=\u001b[39m \u001b[38;5;241m400\u001b[39m \u001b[38;5;129;01mand\u001b[39;00m status \u001b[38;5;129;01mnot\u001b[39;00m \u001b[38;5;129;01min\u001b[39;00m expected_status:\n\u001b[1;32m--> 141\u001b[0m     \u001b[38;5;28;43mself\u001b[39;49m\u001b[38;5;241;43m.\u001b[39;49m\u001b[43m_raise_api_error\u001b[49m\u001b[43m(\u001b[49m\u001b[43mresp\u001b[49m\u001b[43m)\u001b[49m\n\u001b[0;32m    142\u001b[0m \u001b[38;5;28;01mif\u001b[39;00m expected_status \u001b[38;5;129;01mand\u001b[39;00m status \u001b[38;5;129;01mnot\u001b[39;00m \u001b[38;5;129;01min\u001b[39;00m expected_status:\n\u001b[0;32m    143\u001b[0m     \u001b[38;5;28;01mraise\u001b[39;00m OpenEoRestError(\n\u001b[0;32m    144\u001b[0m         \u001b[38;5;124m\"\u001b[39m\u001b[38;5;124mGot status code \u001b[39m\u001b[38;5;132;01m{s!r}\u001b[39;00m\u001b[38;5;124m for `\u001b[39m\u001b[38;5;132;01m{m}\u001b[39;00m\u001b[38;5;124m \u001b[39m\u001b[38;5;132;01m{p}\u001b[39;00m\u001b[38;5;124m` (expected \u001b[39m\u001b[38;5;132;01m{e!r}\u001b[39;00m\u001b[38;5;124m) with body \u001b[39m\u001b[38;5;132;01m{body}\u001b[39;00m\u001b[38;5;124m\"\u001b[39m\u001b[38;5;241m.\u001b[39mformat(\n\u001b[0;32m    145\u001b[0m             m\u001b[38;5;241m=\u001b[39mmethod\u001b[38;5;241m.\u001b[39mupper(), p\u001b[38;5;241m=\u001b[39mpath, s\u001b[38;5;241m=\u001b[39mstatus, e\u001b[38;5;241m=\u001b[39mexpected_status, body\u001b[38;5;241m=\u001b[39mresp\u001b[38;5;241m.\u001b[39mtext\n\u001b[0;32m    146\u001b[0m         )\n\u001b[0;32m    147\u001b[0m     )\n",
      "File \u001b[1;32mc:\\Users\\Ethel Ogallo\\anaconda3\\envs\\zfl_flood\\lib\\site-packages\\openeo\\rest\\_connection.py:163\u001b[0m, in \u001b[0;36mRestApiConnection._raise_api_error\u001b[1;34m(self, response)\u001b[0m\n\u001b[0;32m    161\u001b[0m     error_message \u001b[38;5;241m=\u001b[39m info\u001b[38;5;241m.\u001b[39mget(\u001b[38;5;124m\"\u001b[39m\u001b[38;5;124mmessage\u001b[39m\u001b[38;5;124m\"\u001b[39m)\n\u001b[0;32m    162\u001b[0m     \u001b[38;5;28;01mif\u001b[39;00m error_code \u001b[38;5;129;01mand\u001b[39;00m \u001b[38;5;28misinstance\u001b[39m(error_code, \u001b[38;5;28mstr\u001b[39m) \u001b[38;5;129;01mand\u001b[39;00m error_message \u001b[38;5;129;01mand\u001b[39;00m \u001b[38;5;28misinstance\u001b[39m(error_message, \u001b[38;5;28mstr\u001b[39m):\n\u001b[1;32m--> 163\u001b[0m         \u001b[38;5;28;01mraise\u001b[39;00m OpenEoApiError(\n\u001b[0;32m    164\u001b[0m             http_status_code\u001b[38;5;241m=\u001b[39mstatus_code,\n\u001b[0;32m    165\u001b[0m             code\u001b[38;5;241m=\u001b[39merror_code,\n\u001b[0;32m    166\u001b[0m             message\u001b[38;5;241m=\u001b[39merror_message,\n\u001b[0;32m    167\u001b[0m             \u001b[38;5;28mid\u001b[39m\u001b[38;5;241m=\u001b[39minfo\u001b[38;5;241m.\u001b[39mget(\u001b[38;5;124m\"\u001b[39m\u001b[38;5;124mid\u001b[39m\u001b[38;5;124m\"\u001b[39m),\n\u001b[0;32m    168\u001b[0m             url\u001b[38;5;241m=\u001b[39minfo\u001b[38;5;241m.\u001b[39mget(\u001b[38;5;124m\"\u001b[39m\u001b[38;5;124murl\u001b[39m\u001b[38;5;124m\"\u001b[39m),\n\u001b[0;32m    169\u001b[0m         )\n\u001b[0;32m    171\u001b[0m \u001b[38;5;66;03m# Failed to parse it as a compliant openEO API error: show body as-is in the exception.\u001b[39;00m\n\u001b[0;32m    172\u001b[0m text \u001b[38;5;241m=\u001b[39m response\u001b[38;5;241m.\u001b[39mtext\n",
      "\u001b[1;31mOpenEoApiError\u001b[0m: [500] Internal: Failed to create job on backend 'eodc': OpenEoApiError('[500] Internal Error: (psycopg2.OperationalError) connection to server at \"10.152.183.184\", port 5432 failed: FATAL:  remaining connection slots are reserved for non-replication superuser connections\\n\\n(Background on this error at: https://sqlalche.me/e/20/e3q8)') (ref: r-25070212394047479868f66674aedc2e)"
     ]
    }
   ],
   "source": [
    "# create and start a job to execute the process\n",
    "job = gfm_sum_tiff.create_job(title = \"flood_extent\").start_job()"
   ]
  },
  {
   "cell_type": "code",
   "execution_count": 10,
   "id": "05ce351d",
   "metadata": {},
   "outputs": [
    {
     "ename": "OpenEoApiError",
     "evalue": "[500] Internal Error: (psycopg2.OperationalError) connection to server at \"10.152.183.184\", port 5432 failed: FATAL:  remaining connection slots are reserved for non-replication superuser connections\n\n(Background on this error at: https://sqlalche.me/e/20/e3q8) (ref: r-2507021214224c708ad2ccaf7d2e801c)",
     "output_type": "error",
     "traceback": [
      "\u001b[1;31m---------------------------------------------------------------------------\u001b[0m",
      "\u001b[1;31mOpenEoApiError\u001b[0m                            Traceback (most recent call last)",
      "Cell \u001b[1;32mIn[10], line 2\u001b[0m\n\u001b[0;32m      1\u001b[0m \u001b[38;5;66;03m# wait for the job to finish\u001b[39;00m\n\u001b[1;32m----> 2\u001b[0m \u001b[43mjob\u001b[49m\u001b[38;5;241;43m.\u001b[39;49m\u001b[43mstatus\u001b[49m\u001b[43m(\u001b[49m\u001b[43m)\u001b[49m\n",
      "File \u001b[1;32mc:\\Users\\Ethel Ogallo\\anaconda3\\envs\\zfl_flood\\lib\\site-packages\\openeo\\rest\\job.py:106\u001b[0m, in \u001b[0;36mBatchJob.status\u001b[1;34m(self)\u001b[0m\n\u001b[0;32m    100\u001b[0m \u001b[38;5;28;01mdef\u001b[39;00m\u001b[38;5;250m \u001b[39m\u001b[38;5;21mstatus\u001b[39m(\u001b[38;5;28mself\u001b[39m) \u001b[38;5;241m-\u001b[39m\u001b[38;5;241m>\u001b[39m \u001b[38;5;28mstr\u001b[39m:\n\u001b[0;32m    101\u001b[0m \u001b[38;5;250m    \u001b[39m\u001b[38;5;124;03m\"\"\"\u001b[39;00m\n\u001b[0;32m    102\u001b[0m \u001b[38;5;124;03m    Get the status of the batch job\u001b[39;00m\n\u001b[0;32m    103\u001b[0m \n\u001b[0;32m    104\u001b[0m \u001b[38;5;124;03m    :return: batch job status, one of \"created\", \"queued\", \"running\", \"canceled\", \"finished\" or \"error\".\u001b[39;00m\n\u001b[0;32m    105\u001b[0m \u001b[38;5;124;03m    \"\"\"\u001b[39;00m\n\u001b[1;32m--> 106\u001b[0m     \u001b[38;5;28;01mreturn\u001b[39;00m \u001b[38;5;28;43mself\u001b[39;49m\u001b[38;5;241;43m.\u001b[39;49m\u001b[43mdescribe\u001b[49m\u001b[43m(\u001b[49m\u001b[43m)\u001b[49m\u001b[38;5;241m.\u001b[39mget(\u001b[38;5;124m\"\u001b[39m\u001b[38;5;124mstatus\u001b[39m\u001b[38;5;124m\"\u001b[39m, \u001b[38;5;124m\"\u001b[39m\u001b[38;5;124mN/A\u001b[39m\u001b[38;5;124m\"\u001b[39m)\n",
      "File \u001b[1;32mc:\\Users\\Ethel Ogallo\\anaconda3\\envs\\zfl_flood\\lib\\site-packages\\openeo\\rest\\job.py:96\u001b[0m, in \u001b[0;36mBatchJob.describe\u001b[1;34m(self)\u001b[0m\n\u001b[0;32m     87\u001b[0m \u001b[38;5;129m@openeo_endpoint\u001b[39m(\u001b[38;5;124m\"\u001b[39m\u001b[38;5;124mGET /jobs/\u001b[39m\u001b[38;5;132;01m{job_id}\u001b[39;00m\u001b[38;5;124m\"\u001b[39m)\n\u001b[0;32m     88\u001b[0m \u001b[38;5;28;01mdef\u001b[39;00m\u001b[38;5;250m \u001b[39m\u001b[38;5;21mdescribe\u001b[39m(\u001b[38;5;28mself\u001b[39m) \u001b[38;5;241m-\u001b[39m\u001b[38;5;241m>\u001b[39m \u001b[38;5;28mdict\u001b[39m:\n\u001b[0;32m     89\u001b[0m \u001b[38;5;250m    \u001b[39m\u001b[38;5;124;03m\"\"\"\u001b[39;00m\n\u001b[0;32m     90\u001b[0m \u001b[38;5;124;03m    Get detailed metadata about a submitted batch job\u001b[39;00m\n\u001b[0;32m     91\u001b[0m \u001b[38;5;124;03m    (title, process graph, status, progress, ...).\u001b[39;00m\n\u001b[1;32m   (...)\u001b[0m\n\u001b[0;32m     94\u001b[0m \u001b[38;5;124;03m        This method was previously called :py:meth:`describe_job`.\u001b[39;00m\n\u001b[0;32m     95\u001b[0m \u001b[38;5;124;03m    \"\"\"\u001b[39;00m\n\u001b[1;32m---> 96\u001b[0m     \u001b[38;5;28;01mreturn\u001b[39;00m \u001b[38;5;28;43mself\u001b[39;49m\u001b[38;5;241;43m.\u001b[39;49m\u001b[43mconnection\u001b[49m\u001b[38;5;241;43m.\u001b[39;49m\u001b[43mget\u001b[49m\u001b[43m(\u001b[49m\u001b[38;5;124;43mf\u001b[39;49m\u001b[38;5;124;43m\"\u001b[39;49m\u001b[38;5;124;43m/jobs/\u001b[39;49m\u001b[38;5;132;43;01m{\u001b[39;49;00m\u001b[38;5;28;43mself\u001b[39;49m\u001b[38;5;241;43m.\u001b[39;49m\u001b[43mjob_id\u001b[49m\u001b[38;5;132;43;01m}\u001b[39;49;00m\u001b[38;5;124;43m\"\u001b[39;49m\u001b[43m,\u001b[49m\u001b[43m \u001b[49m\u001b[43mexpected_status\u001b[49m\u001b[38;5;241;43m=\u001b[39;49m\u001b[38;5;241;43m200\u001b[39;49m\u001b[43m)\u001b[49m\u001b[38;5;241m.\u001b[39mjson()\n",
      "File \u001b[1;32mc:\\Users\\Ethel Ogallo\\anaconda3\\envs\\zfl_flood\\lib\\site-packages\\openeo\\rest\\_connection.py:204\u001b[0m, in \u001b[0;36mRestApiConnection.get\u001b[1;34m(self, path, params, stream, auth, **kwargs)\u001b[0m\n\u001b[0;32m    186\u001b[0m \u001b[38;5;28;01mdef\u001b[39;00m\u001b[38;5;250m \u001b[39m\u001b[38;5;21mget\u001b[39m(\n\u001b[0;32m    187\u001b[0m     \u001b[38;5;28mself\u001b[39m,\n\u001b[0;32m    188\u001b[0m     path: \u001b[38;5;28mstr\u001b[39m,\n\u001b[1;32m   (...)\u001b[0m\n\u001b[0;32m    193\u001b[0m     \u001b[38;5;241m*\u001b[39m\u001b[38;5;241m*\u001b[39mkwargs,\n\u001b[0;32m    194\u001b[0m ) \u001b[38;5;241m-\u001b[39m\u001b[38;5;241m>\u001b[39m Response:\n\u001b[0;32m    195\u001b[0m \u001b[38;5;250m    \u001b[39m\u001b[38;5;124;03m\"\"\"\u001b[39;00m\n\u001b[0;32m    196\u001b[0m \u001b[38;5;124;03m    Do GET request to REST API.\u001b[39;00m\n\u001b[0;32m    197\u001b[0m \n\u001b[1;32m   (...)\u001b[0m\n\u001b[0;32m    202\u001b[0m \u001b[38;5;124;03m    :return: response: Response\u001b[39;00m\n\u001b[0;32m    203\u001b[0m \u001b[38;5;124;03m    \"\"\"\u001b[39;00m\n\u001b[1;32m--> 204\u001b[0m     \u001b[38;5;28;01mreturn\u001b[39;00m \u001b[38;5;28mself\u001b[39m\u001b[38;5;241m.\u001b[39mrequest(\u001b[38;5;124m\"\u001b[39m\u001b[38;5;124mget\u001b[39m\u001b[38;5;124m\"\u001b[39m, path\u001b[38;5;241m=\u001b[39mpath, params\u001b[38;5;241m=\u001b[39mparams, stream\u001b[38;5;241m=\u001b[39mstream, auth\u001b[38;5;241m=\u001b[39mauth, \u001b[38;5;241m*\u001b[39m\u001b[38;5;241m*\u001b[39mkwargs)\n",
      "File \u001b[1;32mc:\\Users\\Ethel Ogallo\\anaconda3\\envs\\zfl_flood\\lib\\site-packages\\openeo\\rest\\connection.py:682\u001b[0m, in \u001b[0;36mConnection.request\u001b[1;34m(self, method, path, headers, auth, check_error, expected_status, **kwargs)\u001b[0m\n\u001b[0;32m    675\u001b[0m     \u001b[38;5;28;01mreturn\u001b[39;00m \u001b[38;5;28msuper\u001b[39m(Connection, \u001b[38;5;28mself\u001b[39m)\u001b[38;5;241m.\u001b[39mrequest(\n\u001b[0;32m    676\u001b[0m         method\u001b[38;5;241m=\u001b[39mmethod, path\u001b[38;5;241m=\u001b[39mpath, headers\u001b[38;5;241m=\u001b[39mheaders, auth\u001b[38;5;241m=\u001b[39mauth,\n\u001b[0;32m    677\u001b[0m         check_error\u001b[38;5;241m=\u001b[39mcheck_error, expected_status\u001b[38;5;241m=\u001b[39mexpected_status, \u001b[38;5;241m*\u001b[39m\u001b[38;5;241m*\u001b[39mkwargs,\n\u001b[0;32m    678\u001b[0m     )\n\u001b[0;32m    680\u001b[0m \u001b[38;5;28;01mtry\u001b[39;00m:\n\u001b[0;32m    681\u001b[0m     \u001b[38;5;66;03m# Initial request attempt\u001b[39;00m\n\u001b[1;32m--> 682\u001b[0m     \u001b[38;5;28;01mreturn\u001b[39;00m \u001b[43m_request\u001b[49m\u001b[43m(\u001b[49m\u001b[43m)\u001b[49m\n\u001b[0;32m    683\u001b[0m \u001b[38;5;28;01mexcept\u001b[39;00m OpenEoApiError \u001b[38;5;28;01mas\u001b[39;00m api_exc:\n\u001b[0;32m    684\u001b[0m     \u001b[38;5;28;01mif\u001b[39;00m (\n\u001b[0;32m    685\u001b[0m         api_exc\u001b[38;5;241m.\u001b[39mhttp_status_code \u001b[38;5;129;01min\u001b[39;00m {HTTP_401_UNAUTHORIZED, HTTP_403_FORBIDDEN}\n\u001b[0;32m    686\u001b[0m         \u001b[38;5;129;01mand\u001b[39;00m api_exc\u001b[38;5;241m.\u001b[39mcode \u001b[38;5;241m==\u001b[39m \u001b[38;5;124m\"\u001b[39m\u001b[38;5;124mTokenInvalid\u001b[39m\u001b[38;5;124m\"\u001b[39m\n\u001b[0;32m    687\u001b[0m     ):\n\u001b[0;32m    688\u001b[0m         \u001b[38;5;66;03m# Auth token expired: can we refresh?\u001b[39;00m\n",
      "File \u001b[1;32mc:\\Users\\Ethel Ogallo\\anaconda3\\envs\\zfl_flood\\lib\\site-packages\\openeo\\rest\\connection.py:675\u001b[0m, in \u001b[0;36mConnection.request.<locals>._request\u001b[1;34m()\u001b[0m\n\u001b[0;32m    674\u001b[0m \u001b[38;5;28;01mdef\u001b[39;00m\u001b[38;5;250m \u001b[39m\u001b[38;5;21m_request\u001b[39m():\n\u001b[1;32m--> 675\u001b[0m     \u001b[38;5;28;01mreturn\u001b[39;00m \u001b[38;5;28msuper\u001b[39m(Connection, \u001b[38;5;28mself\u001b[39m)\u001b[38;5;241m.\u001b[39mrequest(\n\u001b[0;32m    676\u001b[0m         method\u001b[38;5;241m=\u001b[39mmethod, path\u001b[38;5;241m=\u001b[39mpath, headers\u001b[38;5;241m=\u001b[39mheaders, auth\u001b[38;5;241m=\u001b[39mauth,\n\u001b[0;32m    677\u001b[0m         check_error\u001b[38;5;241m=\u001b[39mcheck_error, expected_status\u001b[38;5;241m=\u001b[39mexpected_status, \u001b[38;5;241m*\u001b[39m\u001b[38;5;241m*\u001b[39mkwargs,\n\u001b[0;32m    678\u001b[0m     )\n",
      "File \u001b[1;32mc:\\Users\\Ethel Ogallo\\anaconda3\\envs\\zfl_flood\\lib\\site-packages\\openeo\\rest\\_connection.py:141\u001b[0m, in \u001b[0;36mRestApiConnection.request\u001b[1;34m(self, method, path, params, headers, auth, check_error, expected_status, **kwargs)\u001b[0m\n\u001b[0;32m    139\u001b[0m expected_status \u001b[38;5;241m=\u001b[39m ensure_list(expected_status) \u001b[38;5;28;01mif\u001b[39;00m expected_status \u001b[38;5;28;01melse\u001b[39;00m []\n\u001b[0;32m    140\u001b[0m \u001b[38;5;28;01mif\u001b[39;00m check_error \u001b[38;5;129;01mand\u001b[39;00m status \u001b[38;5;241m>\u001b[39m\u001b[38;5;241m=\u001b[39m \u001b[38;5;241m400\u001b[39m \u001b[38;5;129;01mand\u001b[39;00m status \u001b[38;5;129;01mnot\u001b[39;00m \u001b[38;5;129;01min\u001b[39;00m expected_status:\n\u001b[1;32m--> 141\u001b[0m     \u001b[38;5;28;43mself\u001b[39;49m\u001b[38;5;241;43m.\u001b[39;49m\u001b[43m_raise_api_error\u001b[49m\u001b[43m(\u001b[49m\u001b[43mresp\u001b[49m\u001b[43m)\u001b[49m\n\u001b[0;32m    142\u001b[0m \u001b[38;5;28;01mif\u001b[39;00m expected_status \u001b[38;5;129;01mand\u001b[39;00m status \u001b[38;5;129;01mnot\u001b[39;00m \u001b[38;5;129;01min\u001b[39;00m expected_status:\n\u001b[0;32m    143\u001b[0m     \u001b[38;5;28;01mraise\u001b[39;00m OpenEoRestError(\n\u001b[0;32m    144\u001b[0m         \u001b[38;5;124m\"\u001b[39m\u001b[38;5;124mGot status code \u001b[39m\u001b[38;5;132;01m{s!r}\u001b[39;00m\u001b[38;5;124m for `\u001b[39m\u001b[38;5;132;01m{m}\u001b[39;00m\u001b[38;5;124m \u001b[39m\u001b[38;5;132;01m{p}\u001b[39;00m\u001b[38;5;124m` (expected \u001b[39m\u001b[38;5;132;01m{e!r}\u001b[39;00m\u001b[38;5;124m) with body \u001b[39m\u001b[38;5;132;01m{body}\u001b[39;00m\u001b[38;5;124m\"\u001b[39m\u001b[38;5;241m.\u001b[39mformat(\n\u001b[0;32m    145\u001b[0m             m\u001b[38;5;241m=\u001b[39mmethod\u001b[38;5;241m.\u001b[39mupper(), p\u001b[38;5;241m=\u001b[39mpath, s\u001b[38;5;241m=\u001b[39mstatus, e\u001b[38;5;241m=\u001b[39mexpected_status, body\u001b[38;5;241m=\u001b[39mresp\u001b[38;5;241m.\u001b[39mtext\n\u001b[0;32m    146\u001b[0m         )\n\u001b[0;32m    147\u001b[0m     )\n",
      "File \u001b[1;32mc:\\Users\\Ethel Ogallo\\anaconda3\\envs\\zfl_flood\\lib\\site-packages\\openeo\\rest\\_connection.py:163\u001b[0m, in \u001b[0;36mRestApiConnection._raise_api_error\u001b[1;34m(self, response)\u001b[0m\n\u001b[0;32m    161\u001b[0m     error_message \u001b[38;5;241m=\u001b[39m info\u001b[38;5;241m.\u001b[39mget(\u001b[38;5;124m\"\u001b[39m\u001b[38;5;124mmessage\u001b[39m\u001b[38;5;124m\"\u001b[39m)\n\u001b[0;32m    162\u001b[0m     \u001b[38;5;28;01mif\u001b[39;00m error_code \u001b[38;5;129;01mand\u001b[39;00m \u001b[38;5;28misinstance\u001b[39m(error_code, \u001b[38;5;28mstr\u001b[39m) \u001b[38;5;129;01mand\u001b[39;00m error_message \u001b[38;5;129;01mand\u001b[39;00m \u001b[38;5;28misinstance\u001b[39m(error_message, \u001b[38;5;28mstr\u001b[39m):\n\u001b[1;32m--> 163\u001b[0m         \u001b[38;5;28;01mraise\u001b[39;00m OpenEoApiError(\n\u001b[0;32m    164\u001b[0m             http_status_code\u001b[38;5;241m=\u001b[39mstatus_code,\n\u001b[0;32m    165\u001b[0m             code\u001b[38;5;241m=\u001b[39merror_code,\n\u001b[0;32m    166\u001b[0m             message\u001b[38;5;241m=\u001b[39merror_message,\n\u001b[0;32m    167\u001b[0m             \u001b[38;5;28mid\u001b[39m\u001b[38;5;241m=\u001b[39minfo\u001b[38;5;241m.\u001b[39mget(\u001b[38;5;124m\"\u001b[39m\u001b[38;5;124mid\u001b[39m\u001b[38;5;124m\"\u001b[39m),\n\u001b[0;32m    168\u001b[0m             url\u001b[38;5;241m=\u001b[39minfo\u001b[38;5;241m.\u001b[39mget(\u001b[38;5;124m\"\u001b[39m\u001b[38;5;124murl\u001b[39m\u001b[38;5;124m\"\u001b[39m),\n\u001b[0;32m    169\u001b[0m         )\n\u001b[0;32m    171\u001b[0m \u001b[38;5;66;03m# Failed to parse it as a compliant openEO API error: show body as-is in the exception.\u001b[39;00m\n\u001b[0;32m    172\u001b[0m text \u001b[38;5;241m=\u001b[39m response\u001b[38;5;241m.\u001b[39mtext\n",
      "\u001b[1;31mOpenEoApiError\u001b[0m: [500] Internal Error: (psycopg2.OperationalError) connection to server at \"10.152.183.184\", port 5432 failed: FATAL:  remaining connection slots are reserved for non-replication superuser connections\n\n(Background on this error at: https://sqlalche.me/e/20/e3q8) (ref: r-2507021214224c708ad2ccaf7d2e801c)"
     ]
    }
   ],
   "source": [
    "# wait for the job to finish\n",
    "job.status()"
   ]
  },
  {
   "cell_type": "code",
   "execution_count": null,
   "id": "822d356b",
   "metadata": {},
   "outputs": [
    {
     "ename": "OpenEoApiError",
     "evalue": "[500] Internal Error: (psycopg2.OperationalError) connection to server at \"10.152.183.184\", port 5432 failed: FATAL:  remaining connection slots are reserved for non-replication superuser connections\n\n(Background on this error at: https://sqlalche.me/e/20/e3q8) (ref: r-2507021141534431bca6394b696907ad)",
     "output_type": "error",
     "traceback": [
      "\u001b[1;31m---------------------------------------------------------------------------\u001b[0m",
      "\u001b[1;31mOpenEoApiError\u001b[0m                            Traceback (most recent call last)",
      "Cell \u001b[1;32mIn[17], line 2\u001b[0m\n\u001b[0;32m      1\u001b[0m \u001b[38;5;66;03m#job.get_results().download_files(\"./gfm1/flood_extent_wgs/\")\u001b[39;00m\n\u001b[1;32m----> 2\u001b[0m \u001b[43mjob2\u001b[49m\u001b[38;5;241;43m.\u001b[39;49m\u001b[43mget_results\u001b[49m\u001b[43m(\u001b[49m\u001b[43m)\u001b[49m\u001b[38;5;241;43m.\u001b[39;49m\u001b[43mdownload_files\u001b[49m\u001b[43m(\u001b[49m\u001b[38;5;124;43m\"\u001b[39;49m\u001b[38;5;124;43m./gfm_fin/flood_extent_wgs/\u001b[39;49m\u001b[38;5;124;43m\"\u001b[39;49m\u001b[43m)\u001b[49m\n",
      "File \u001b[1;32mc:\\Users\\Ethel Ogallo\\anaconda3\\envs\\zfl_flood\\lib\\site-packages\\openeo\\rest\\job.py:595\u001b[0m, in \u001b[0;36mJobResults.download_files\u001b[1;34m(self, target, include_stac_metadata, chunk_size)\u001b[0m\n\u001b[0;32m    592\u001b[0m     \u001b[38;5;28;01mraise\u001b[39;00m OpenEoClientException(\u001b[38;5;124mf\u001b[39m\u001b[38;5;124m\"\u001b[39m\u001b[38;5;124mTarget argument \u001b[39m\u001b[38;5;132;01m{\u001b[39;00mtarget\u001b[38;5;132;01m}\u001b[39;00m\u001b[38;5;124m exists but isn\u001b[39m\u001b[38;5;124m'\u001b[39m\u001b[38;5;124mt a folder.\u001b[39m\u001b[38;5;124m\"\u001b[39m)\n\u001b[0;32m    593\u001b[0m ensure_dir(target)\n\u001b[1;32m--> 595\u001b[0m downloaded \u001b[38;5;241m=\u001b[39m [a\u001b[38;5;241m.\u001b[39mdownload(target, chunk_size\u001b[38;5;241m=\u001b[39mchunk_size) \u001b[38;5;28;01mfor\u001b[39;00m a \u001b[38;5;129;01min\u001b[39;00m \u001b[38;5;28;43mself\u001b[39;49m\u001b[38;5;241;43m.\u001b[39;49m\u001b[43mget_assets\u001b[49m\u001b[43m(\u001b[49m\u001b[43m)\u001b[49m]\n\u001b[0;32m    597\u001b[0m \u001b[38;5;28;01mif\u001b[39;00m include_stac_metadata:\n\u001b[0;32m    598\u001b[0m     \u001b[38;5;66;03m# TODO #184: convention for metadata file name?\u001b[39;00m\n\u001b[0;32m    599\u001b[0m     metadata_file \u001b[38;5;241m=\u001b[39m target \u001b[38;5;241m/\u001b[39m DEFAULT_JOB_RESULTS_FILENAME\n",
      "File \u001b[1;32mc:\\Users\\Ethel Ogallo\\anaconda3\\envs\\zfl_flood\\lib\\site-packages\\openeo\\rest\\job.py:532\u001b[0m, in \u001b[0;36mJobResults.get_assets\u001b[1;34m(self)\u001b[0m\n\u001b[0;32m    528\u001b[0m \u001b[38;5;250m\u001b[39m\u001b[38;5;124;03m\"\"\"\u001b[39;00m\n\u001b[0;32m    529\u001b[0m \u001b[38;5;124;03mGet all assets from the job results.\u001b[39;00m\n\u001b[0;32m    530\u001b[0m \u001b[38;5;124;03m\"\"\"\u001b[39;00m\n\u001b[0;32m    531\u001b[0m \u001b[38;5;66;03m# TODO: add arguments to filter on metadata, e.g. to only get assets of type \"image/tiff\"\u001b[39;00m\n\u001b[1;32m--> 532\u001b[0m metadata \u001b[38;5;241m=\u001b[39m \u001b[38;5;28;43mself\u001b[39;49m\u001b[38;5;241;43m.\u001b[39;49m\u001b[43mget_metadata\u001b[49m\u001b[43m(\u001b[49m\u001b[43m)\u001b[49m\n\u001b[0;32m    533\u001b[0m \u001b[38;5;66;03m# API 1.0 style: dictionary mapping filenames to metadata dict (with at least a \"href\" field)\u001b[39;00m\n\u001b[0;32m    534\u001b[0m assets \u001b[38;5;241m=\u001b[39m metadata\u001b[38;5;241m.\u001b[39mget(\u001b[38;5;124m\"\u001b[39m\u001b[38;5;124massets\u001b[39m\u001b[38;5;124m\"\u001b[39m, {})\n",
      "File \u001b[1;32mc:\\Users\\Ethel Ogallo\\anaconda3\\envs\\zfl_flood\\lib\\site-packages\\openeo\\rest\\job.py:520\u001b[0m, in \u001b[0;36mJobResults.get_metadata\u001b[1;34m(self, force)\u001b[0m\n\u001b[0;32m    518\u001b[0m \u001b[38;5;250m\u001b[39m\u001b[38;5;124;03m\"\"\"Get batch job results metadata (parsed JSON)\"\"\"\u001b[39;00m\n\u001b[0;32m    519\u001b[0m \u001b[38;5;28;01mif\u001b[39;00m \u001b[38;5;28mself\u001b[39m\u001b[38;5;241m.\u001b[39m_results \u001b[38;5;129;01mis\u001b[39;00m \u001b[38;5;28;01mNone\u001b[39;00m \u001b[38;5;129;01mor\u001b[39;00m force:\n\u001b[1;32m--> 520\u001b[0m     \u001b[38;5;28mself\u001b[39m\u001b[38;5;241m.\u001b[39m_results \u001b[38;5;241m=\u001b[39m \u001b[38;5;28;43mself\u001b[39;49m\u001b[38;5;241;43m.\u001b[39;49m\u001b[43m_job\u001b[49m\u001b[38;5;241;43m.\u001b[39;49m\u001b[43mconnection\u001b[49m\u001b[38;5;241;43m.\u001b[39;49m\u001b[43mget\u001b[49m\u001b[43m(\u001b[49m\n\u001b[0;32m    521\u001b[0m \u001b[43m        \u001b[49m\u001b[38;5;28;43mself\u001b[39;49m\u001b[38;5;241;43m.\u001b[39;49m\u001b[43m_job\u001b[49m\u001b[38;5;241;43m.\u001b[39;49m\u001b[43mget_results_metadata_url\u001b[49m\u001b[43m(\u001b[49m\u001b[43m)\u001b[49m\u001b[43m,\u001b[49m\u001b[43m \u001b[49m\u001b[43mexpected_status\u001b[49m\u001b[38;5;241;43m=\u001b[39;49m\u001b[38;5;241;43m200\u001b[39;49m\n\u001b[0;32m    522\u001b[0m \u001b[43m    \u001b[49m\u001b[43m)\u001b[49m\u001b[38;5;241m.\u001b[39mjson()\n\u001b[0;32m    523\u001b[0m \u001b[38;5;28;01mreturn\u001b[39;00m \u001b[38;5;28mself\u001b[39m\u001b[38;5;241m.\u001b[39m_results\n",
      "File \u001b[1;32mc:\\Users\\Ethel Ogallo\\anaconda3\\envs\\zfl_flood\\lib\\site-packages\\openeo\\rest\\_connection.py:204\u001b[0m, in \u001b[0;36mRestApiConnection.get\u001b[1;34m(self, path, params, stream, auth, **kwargs)\u001b[0m\n\u001b[0;32m    186\u001b[0m \u001b[38;5;28;01mdef\u001b[39;00m\u001b[38;5;250m \u001b[39m\u001b[38;5;21mget\u001b[39m(\n\u001b[0;32m    187\u001b[0m     \u001b[38;5;28mself\u001b[39m,\n\u001b[0;32m    188\u001b[0m     path: \u001b[38;5;28mstr\u001b[39m,\n\u001b[1;32m   (...)\u001b[0m\n\u001b[0;32m    193\u001b[0m     \u001b[38;5;241m*\u001b[39m\u001b[38;5;241m*\u001b[39mkwargs,\n\u001b[0;32m    194\u001b[0m ) \u001b[38;5;241m-\u001b[39m\u001b[38;5;241m>\u001b[39m Response:\n\u001b[0;32m    195\u001b[0m \u001b[38;5;250m    \u001b[39m\u001b[38;5;124;03m\"\"\"\u001b[39;00m\n\u001b[0;32m    196\u001b[0m \u001b[38;5;124;03m    Do GET request to REST API.\u001b[39;00m\n\u001b[0;32m    197\u001b[0m \n\u001b[1;32m   (...)\u001b[0m\n\u001b[0;32m    202\u001b[0m \u001b[38;5;124;03m    :return: response: Response\u001b[39;00m\n\u001b[0;32m    203\u001b[0m \u001b[38;5;124;03m    \"\"\"\u001b[39;00m\n\u001b[1;32m--> 204\u001b[0m     \u001b[38;5;28;01mreturn\u001b[39;00m \u001b[38;5;28mself\u001b[39m\u001b[38;5;241m.\u001b[39mrequest(\u001b[38;5;124m\"\u001b[39m\u001b[38;5;124mget\u001b[39m\u001b[38;5;124m\"\u001b[39m, path\u001b[38;5;241m=\u001b[39mpath, params\u001b[38;5;241m=\u001b[39mparams, stream\u001b[38;5;241m=\u001b[39mstream, auth\u001b[38;5;241m=\u001b[39mauth, \u001b[38;5;241m*\u001b[39m\u001b[38;5;241m*\u001b[39mkwargs)\n",
      "File \u001b[1;32mc:\\Users\\Ethel Ogallo\\anaconda3\\envs\\zfl_flood\\lib\\site-packages\\openeo\\rest\\connection.py:682\u001b[0m, in \u001b[0;36mConnection.request\u001b[1;34m(self, method, path, headers, auth, check_error, expected_status, **kwargs)\u001b[0m\n\u001b[0;32m    675\u001b[0m     \u001b[38;5;28;01mreturn\u001b[39;00m \u001b[38;5;28msuper\u001b[39m(Connection, \u001b[38;5;28mself\u001b[39m)\u001b[38;5;241m.\u001b[39mrequest(\n\u001b[0;32m    676\u001b[0m         method\u001b[38;5;241m=\u001b[39mmethod, path\u001b[38;5;241m=\u001b[39mpath, headers\u001b[38;5;241m=\u001b[39mheaders, auth\u001b[38;5;241m=\u001b[39mauth,\n\u001b[0;32m    677\u001b[0m         check_error\u001b[38;5;241m=\u001b[39mcheck_error, expected_status\u001b[38;5;241m=\u001b[39mexpected_status, \u001b[38;5;241m*\u001b[39m\u001b[38;5;241m*\u001b[39mkwargs,\n\u001b[0;32m    678\u001b[0m     )\n\u001b[0;32m    680\u001b[0m \u001b[38;5;28;01mtry\u001b[39;00m:\n\u001b[0;32m    681\u001b[0m     \u001b[38;5;66;03m# Initial request attempt\u001b[39;00m\n\u001b[1;32m--> 682\u001b[0m     \u001b[38;5;28;01mreturn\u001b[39;00m \u001b[43m_request\u001b[49m\u001b[43m(\u001b[49m\u001b[43m)\u001b[49m\n\u001b[0;32m    683\u001b[0m \u001b[38;5;28;01mexcept\u001b[39;00m OpenEoApiError \u001b[38;5;28;01mas\u001b[39;00m api_exc:\n\u001b[0;32m    684\u001b[0m     \u001b[38;5;28;01mif\u001b[39;00m (\n\u001b[0;32m    685\u001b[0m         api_exc\u001b[38;5;241m.\u001b[39mhttp_status_code \u001b[38;5;129;01min\u001b[39;00m {HTTP_401_UNAUTHORIZED, HTTP_403_FORBIDDEN}\n\u001b[0;32m    686\u001b[0m         \u001b[38;5;129;01mand\u001b[39;00m api_exc\u001b[38;5;241m.\u001b[39mcode \u001b[38;5;241m==\u001b[39m \u001b[38;5;124m\"\u001b[39m\u001b[38;5;124mTokenInvalid\u001b[39m\u001b[38;5;124m\"\u001b[39m\n\u001b[0;32m    687\u001b[0m     ):\n\u001b[0;32m    688\u001b[0m         \u001b[38;5;66;03m# Auth token expired: can we refresh?\u001b[39;00m\n",
      "File \u001b[1;32mc:\\Users\\Ethel Ogallo\\anaconda3\\envs\\zfl_flood\\lib\\site-packages\\openeo\\rest\\connection.py:675\u001b[0m, in \u001b[0;36mConnection.request.<locals>._request\u001b[1;34m()\u001b[0m\n\u001b[0;32m    674\u001b[0m \u001b[38;5;28;01mdef\u001b[39;00m\u001b[38;5;250m \u001b[39m\u001b[38;5;21m_request\u001b[39m():\n\u001b[1;32m--> 675\u001b[0m     \u001b[38;5;28;01mreturn\u001b[39;00m \u001b[38;5;28msuper\u001b[39m(Connection, \u001b[38;5;28mself\u001b[39m)\u001b[38;5;241m.\u001b[39mrequest(\n\u001b[0;32m    676\u001b[0m         method\u001b[38;5;241m=\u001b[39mmethod, path\u001b[38;5;241m=\u001b[39mpath, headers\u001b[38;5;241m=\u001b[39mheaders, auth\u001b[38;5;241m=\u001b[39mauth,\n\u001b[0;32m    677\u001b[0m         check_error\u001b[38;5;241m=\u001b[39mcheck_error, expected_status\u001b[38;5;241m=\u001b[39mexpected_status, \u001b[38;5;241m*\u001b[39m\u001b[38;5;241m*\u001b[39mkwargs,\n\u001b[0;32m    678\u001b[0m     )\n",
      "File \u001b[1;32mc:\\Users\\Ethel Ogallo\\anaconda3\\envs\\zfl_flood\\lib\\site-packages\\openeo\\rest\\_connection.py:141\u001b[0m, in \u001b[0;36mRestApiConnection.request\u001b[1;34m(self, method, path, params, headers, auth, check_error, expected_status, **kwargs)\u001b[0m\n\u001b[0;32m    139\u001b[0m expected_status \u001b[38;5;241m=\u001b[39m ensure_list(expected_status) \u001b[38;5;28;01mif\u001b[39;00m expected_status \u001b[38;5;28;01melse\u001b[39;00m []\n\u001b[0;32m    140\u001b[0m \u001b[38;5;28;01mif\u001b[39;00m check_error \u001b[38;5;129;01mand\u001b[39;00m status \u001b[38;5;241m>\u001b[39m\u001b[38;5;241m=\u001b[39m \u001b[38;5;241m400\u001b[39m \u001b[38;5;129;01mand\u001b[39;00m status \u001b[38;5;129;01mnot\u001b[39;00m \u001b[38;5;129;01min\u001b[39;00m expected_status:\n\u001b[1;32m--> 141\u001b[0m     \u001b[38;5;28;43mself\u001b[39;49m\u001b[38;5;241;43m.\u001b[39;49m\u001b[43m_raise_api_error\u001b[49m\u001b[43m(\u001b[49m\u001b[43mresp\u001b[49m\u001b[43m)\u001b[49m\n\u001b[0;32m    142\u001b[0m \u001b[38;5;28;01mif\u001b[39;00m expected_status \u001b[38;5;129;01mand\u001b[39;00m status \u001b[38;5;129;01mnot\u001b[39;00m \u001b[38;5;129;01min\u001b[39;00m expected_status:\n\u001b[0;32m    143\u001b[0m     \u001b[38;5;28;01mraise\u001b[39;00m OpenEoRestError(\n\u001b[0;32m    144\u001b[0m         \u001b[38;5;124m\"\u001b[39m\u001b[38;5;124mGot status code \u001b[39m\u001b[38;5;132;01m{s!r}\u001b[39;00m\u001b[38;5;124m for `\u001b[39m\u001b[38;5;132;01m{m}\u001b[39;00m\u001b[38;5;124m \u001b[39m\u001b[38;5;132;01m{p}\u001b[39;00m\u001b[38;5;124m` (expected \u001b[39m\u001b[38;5;132;01m{e!r}\u001b[39;00m\u001b[38;5;124m) with body \u001b[39m\u001b[38;5;132;01m{body}\u001b[39;00m\u001b[38;5;124m\"\u001b[39m\u001b[38;5;241m.\u001b[39mformat(\n\u001b[0;32m    145\u001b[0m             m\u001b[38;5;241m=\u001b[39mmethod\u001b[38;5;241m.\u001b[39mupper(), p\u001b[38;5;241m=\u001b[39mpath, s\u001b[38;5;241m=\u001b[39mstatus, e\u001b[38;5;241m=\u001b[39mexpected_status, body\u001b[38;5;241m=\u001b[39mresp\u001b[38;5;241m.\u001b[39mtext\n\u001b[0;32m    146\u001b[0m         )\n\u001b[0;32m    147\u001b[0m     )\n",
      "File \u001b[1;32mc:\\Users\\Ethel Ogallo\\anaconda3\\envs\\zfl_flood\\lib\\site-packages\\openeo\\rest\\_connection.py:163\u001b[0m, in \u001b[0;36mRestApiConnection._raise_api_error\u001b[1;34m(self, response)\u001b[0m\n\u001b[0;32m    161\u001b[0m     error_message \u001b[38;5;241m=\u001b[39m info\u001b[38;5;241m.\u001b[39mget(\u001b[38;5;124m\"\u001b[39m\u001b[38;5;124mmessage\u001b[39m\u001b[38;5;124m\"\u001b[39m)\n\u001b[0;32m    162\u001b[0m     \u001b[38;5;28;01mif\u001b[39;00m error_code \u001b[38;5;129;01mand\u001b[39;00m \u001b[38;5;28misinstance\u001b[39m(error_code, \u001b[38;5;28mstr\u001b[39m) \u001b[38;5;129;01mand\u001b[39;00m error_message \u001b[38;5;129;01mand\u001b[39;00m \u001b[38;5;28misinstance\u001b[39m(error_message, \u001b[38;5;28mstr\u001b[39m):\n\u001b[1;32m--> 163\u001b[0m         \u001b[38;5;28;01mraise\u001b[39;00m OpenEoApiError(\n\u001b[0;32m    164\u001b[0m             http_status_code\u001b[38;5;241m=\u001b[39mstatus_code,\n\u001b[0;32m    165\u001b[0m             code\u001b[38;5;241m=\u001b[39merror_code,\n\u001b[0;32m    166\u001b[0m             message\u001b[38;5;241m=\u001b[39merror_message,\n\u001b[0;32m    167\u001b[0m             \u001b[38;5;28mid\u001b[39m\u001b[38;5;241m=\u001b[39minfo\u001b[38;5;241m.\u001b[39mget(\u001b[38;5;124m\"\u001b[39m\u001b[38;5;124mid\u001b[39m\u001b[38;5;124m\"\u001b[39m),\n\u001b[0;32m    168\u001b[0m             url\u001b[38;5;241m=\u001b[39minfo\u001b[38;5;241m.\u001b[39mget(\u001b[38;5;124m\"\u001b[39m\u001b[38;5;124murl\u001b[39m\u001b[38;5;124m\"\u001b[39m),\n\u001b[0;32m    169\u001b[0m         )\n\u001b[0;32m    171\u001b[0m \u001b[38;5;66;03m# Failed to parse it as a compliant openEO API error: show body as-is in the exception.\u001b[39;00m\n\u001b[0;32m    172\u001b[0m text \u001b[38;5;241m=\u001b[39m response\u001b[38;5;241m.\u001b[39mtext\n",
      "\u001b[1;31mOpenEoApiError\u001b[0m: [500] Internal Error: (psycopg2.OperationalError) connection to server at \"10.152.183.184\", port 5432 failed: FATAL:  remaining connection slots are reserved for non-replication superuser connections\n\n(Background on this error at: https://sqlalche.me/e/20/e3q8) (ref: r-2507021141534431bca6394b696907ad)"
     ]
    }
   ],
   "source": [
    "# download the results\n",
    "job.get_results().download_files(\"./gfm1/flood_extent_wgs/\")"
   ]
  },
  {
   "cell_type": "markdown",
   "id": "473bedf8",
   "metadata": {},
   "source": [
    "TESTING FOR ALL MONTHS"
   ]
  },
  {
   "cell_type": "code",
   "execution_count": null,
   "id": "5d41796b",
   "metadata": {},
   "outputs": [],
   "source": [
    "from datetime import datetime, timedelta\n",
    "import os\n",
    "import time\n",
    "from dateutil.relativedelta import relativedelta\n"
   ]
  },
  {
   "cell_type": "code",
   "execution_count": null,
   "id": "174f6c81",
   "metadata": {},
   "outputs": [],
   "source": [
    "# Define start and end date\n",
    "start_date = datetime(2018, 1, 1)\n",
    "end_date = datetime(2025, 6, 30)  # To date\n",
    "\n",
    "# Folder to save results\n",
    "output_folder = \"./gfm/flood_extent_wgs/\"\n",
    "os.makedirs(output_folder, exist_ok=True)\n",
    "\n",
    "current_date = start_date\n",
    "jobs = [] #list tos store the created jobs\n",
    "\n",
    "# Create and start all jobs\n",
    "while current_date <= end_date:\n",
    "    period_start = current_date\n",
    "    period_end = current_date + relativedelta(months=3) - timedelta(days=1)\n",
    "    \n",
    "    if period_end > end_date:\n",
    "        period_end = end_date\n",
    "    \n",
    "    temporal_extent = [period_start.strftime(\"%Y-%m-%d\"), period_end.strftime(\"%Y-%m-%d\")]\n",
    "    print(f\"Creating job for {temporal_extent[0]} to {temporal_extent[1]}\")\n",
    "\n",
    "    gfm_dataset = conn.load_collection(\n",
    "        collection,\n",
    "        spatial_extent=spatial_extent,\n",
    "        temporal_extent=temporal_extent,\n",
    "        bands=[\"ensemble_flood_extent\"]\n",
    "    )\n",
    "\n",
    "    gfm_sum = gfm_dataset.reduce_dimension(dimension=\"t\", reducer=sum)\n",
    "    gfm_sum_tiff = gfm_sum.save_result(format=\"GTiff\", options={\"tile_grid\": \"wgs84-1degree\"})\n",
    "\n",
    "    job = gfm_sum_tiff.create_job(title=\"flood_extent\")\n",
    "    job.start_job()\n",
    "\n",
    "    jobs.append((period_start.strftime('%Y_%m'), job))\n",
    "    \n",
    "    current_date = period_end + timedelta(days=1)"
   ]
  },
  {
   "cell_type": "code",
   "execution_count": null,
   "id": "ed912963",
   "metadata": {},
   "outputs": [],
   "source": [
    "job.status()"
   ]
  },
  {
   "cell_type": "code",
   "execution_count": null,
   "id": "09f18d69",
   "metadata": {},
   "outputs": [],
   "source": [
    "for month, job in jobs:\n",
    "    print(f\"Downloading results for {month}...\")\n",
    "    job.get_results().download_files(os.path.join(output_folder, month))"
   ]
  },
  {
   "cell_type": "markdown",
   "id": "24fee7d5",
   "metadata": {},
   "source": [
    "visualize the data"
   ]
  },
  {
   "cell_type": "code",
   "execution_count": 14,
   "id": "b9f88bdd",
   "metadata": {},
   "outputs": [],
   "source": [
    "import os\n",
    "import numpy as np\n",
    "import matplotlib.pyplot as plt\n",
    "import xarray as xr\n",
    "import rioxarray"
   ]
  },
  {
   "cell_type": "code",
   "execution_count": 29,
   "id": "294027e6",
   "metadata": {},
   "outputs": [
    {
     "name": "stdout",
     "output_type": "stream",
     "text": [
      "<xarray.DataArray (band: 1, y: 4574, x: 2517)> Size: 46MB\n",
      "[11512758 values with dtype=float32]\n",
      "Coordinates:\n",
      "  * band         (band) int32 4B 1\n",
      "  * x            (x) float64 20kB 35.55 35.55 35.55 35.55 ... 36.0 36.0 36.0\n",
      "  * y            (y) float64 37kB 0.9219 0.9217 0.9215 ... 0.09891 0.09873\n",
      "    spatial_ref  int32 4B 0\n",
      "Attributes:\n",
      "    AREA_OR_POINT:                 Area\n",
      "    filepaths:                     []\n",
      "    gfm:                           https://extwiki.eodc.eu/GFM\n",
      "    long_name:                     reproject-7d43cc36effc47c28ae7be7d09e73b36\n",
      "    snapshot_STAC_collection_URL:  https://stac.eodc.eu/api/v1/collections/GFM\n",
      "    _FillValue:                    -9999.0\n",
      "    scale_factor:                  1.0\n",
      "    add_offset:                    0.0\n"
     ]
    }
   ],
   "source": [
    "path = \"./gfm_fin/flood_extent_wgs/WGS84_E35N0_20180102T155529.tif\"\n",
    "flood_extent = rioxarray.open_rasterio(path)\n",
    "print(flood_extent)"
   ]
  },
  {
   "cell_type": "code",
   "execution_count": 40,
   "id": "ad88beab",
   "metadata": {},
   "outputs": [
    {
     "data": {
      "image/png": "[encoded data removed]",
      "text/plain": [
       "<Figure size 600x600 with 2 Axes>"
      ]
     },
     "metadata": {},
     "output_type": "display_data"
    }
   ],
   "source": [
    "# Extract flood band and clean no-data values\n",
    "flood_extent_clean = flood_extent.sel(band=1)\n",
    "flood_extent_clean = flood_extent_clean.where(flood_extent_clean != -9999)\n",
    "\n",
    "\n",
    "# Meshgrid for plotting\n",
    "X, Y = np.meshgrid(flood_extent_clean.x.values, flood_extent_clean.y.values)\n",
    "\n",
    "# Plot\n",
    "plt.figure(figsize=(6,6))\n",
    "plt.title(\"Flood Extent\", fontsize=12)\n",
    "f = plt.contourf(X, Y, flood_extent_clean, cmap='Blues')\n",
    "plt.colorbar(label=\"Flood extent\")  \n",
    "plt.show()"
   ]
  }
 ],
 "metadata": {
  "kernelspec": {
   "display_name": "zfl_flood",
   "language": "python",
   "name": "python3"
  },
  "language_info": {
   "codemirror_mode": {
    "name": "ipython",
    "version": 3
   },
   "file_extension": ".py",
   "mimetype": "text/x-python",
   "name": "python",
   "nbconvert_exporter": "python",
   "pygments_lexer": "ipython3",
   "version": "3.10.18"
  }
 },
 "nbformat": 4,
 "nbformat_minor": 5
}
