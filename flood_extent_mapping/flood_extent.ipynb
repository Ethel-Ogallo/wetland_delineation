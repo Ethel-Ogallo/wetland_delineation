{
 "cells": [
  {
   "cell_type": "code",
   "execution_count": null,
   "id": "fe1ca2d9",
   "metadata": {},
   "outputs": [],
   "source": [
    "import openeo\n",
    "from openeo.processes import *\n",
    "import geopandas as gpd"
   ]
  },
  {
   "cell_type": "code",
   "execution_count": null,
   "id": "49a23a23",
   "metadata": {},
   "outputs": [],
   "source": [
    "# connect to the openEO service\n",
    "conn = openeo.connect(\"openeo.cloud\").authenticate_oidc()\n"
   ]
  },
  {
   "cell_type": "code",
   "execution_count": null,
   "id": "57d3dd8d",
   "metadata": {},
   "outputs": [],
   "source": [
    "# describe the GFM collection\n",
    "conn.describe_collection(\"GFM\")"
   ]
  },
  {
   "cell_type": "code",
   "execution_count": null,
   "id": "8d8454e2",
   "metadata": {},
   "outputs": [],
   "source": [
    "# set parameters\n",
    "# extract spatial extent from aoi shapefile\n",
    "bbox = gpd.read_file(r\"Data\\Data\\baringo_bbox\\baringo_bbox.shp\").total_bounds\n",
    "spatial_extent = {\n",
    "    \"west\": bbox[0],\n",
    "    \"south\": bbox[1],\n",
    "    \"east\": bbox[2],\n",
    "    \"north\": bbox[3]}\n",
    "\n",
    "# temporal extent from 2018-2025\n",
    "temporal_extent = [\"2018-02-01\", \"2018-03-01\"]  #example 1 month\n",
    "\n",
    "\n",
    "# define which collection to use\n",
    "collection = \"GFM\"\n",
    "\n",
    "# load the collection with the specified spatial and temporal extents\n",
    "gfm_data = conn.load_collection(\n",
    "    collection, \n",
    "    spatial_extent=spatial_extent, \n",
    "    temporal_extent=temporal_extent, \n",
    "    bands = [\"ensemble_flood_extent\"]\n",
    ")\n",
    "\n",
    "# apply a reducer to sum the flood extent over time\n",
    "gfm_sum = gfm_data.reduce_dimension(dimension=\"t\", reducer=sum)\n",
    "\n",
    "# save the result as a GeoTIFF file with a specified tile grid\n",
    "gfm_sum_tiff = gfm_sum.save_result(format=\"GTiff\", options={\"tile_grid\": \"wgs84-1degree\"})\n"
   ]
  },
  {
   "cell_type": "code",
   "execution_count": null,
   "id": "98b3932a",
   "metadata": {},
   "outputs": [],
   "source": [
    "# create and start a job to execute the process\n",
    "job = gfm_sum_tiff.create_job(title = \"flood_extent\").start_job()"
   ]
  },
  {
   "cell_type": "code",
   "execution_count": null,
   "id": "05ce351d",
   "metadata": {},
   "outputs": [],
   "source": [
    "# wait for the job to finish\n",
    "job.status()"
   ]
  },
  {
   "cell_type": "code",
   "execution_count": null,
   "id": "822d356b",
   "metadata": {},
   "outputs": [],
   "source": [
    "# download the results\n",
    "job.get_results().download_files(\"./gfm1/flood_extent_wgs/\")"
   ]
  },
  {
   "cell_type": "markdown",
   "id": "473bedf8",
   "metadata": {},
   "source": [
    "TESTING FOR ALL MONTHS"
   ]
  },
  {
   "cell_type": "code",
   "execution_count": null,
   "id": "5d41796b",
   "metadata": {},
   "outputs": [],
   "source": [
    "from datetime import datetime, timedelta\n",
    "import os\n",
    "import time\n",
    "from dateutil.relativedelta import relativedelta\n"
   ]
  },
  {
   "cell_type": "code",
   "execution_count": null,
   "id": "174f6c81",
   "metadata": {},
   "outputs": [],
   "source": [
    "# Define start and end date\n",
    "start_date = datetime(2018, 1, 1)\n",
    "end_date = datetime(2025, 6, 30)  # To date\n",
    "\n",
    "# Folder to save results\n",
    "output_folder = \"./gfm/flood_extent_wgs/\"\n",
    "os.makedirs(output_folder, exist_ok=True)\n",
    "\n",
    "current_date = start_date\n",
    "jobs = [] #list tos store the created jobs\n",
    "\n",
    "# Create and start all jobs\n",
    "while current_date <= end_date:\n",
    "    period_start = current_date\n",
    "    period_end = current_date + relativedelta(months=3) - timedelta(days=1)\n",
    "    \n",
    "    if period_end > end_date:\n",
    "        period_end = end_date\n",
    "    \n",
    "    temporal_extent = [period_start.strftime(\"%Y-%m-%d\"), period_end.strftime(\"%Y-%m-%d\")]\n",
    "    print(f\"Creating job for {temporal_extent[0]} to {temporal_extent[1]}\")\n",
    "\n",
    "    gfm_dataset = conn.load_collection(\n",
    "        collection,\n",
    "        spatial_extent=spatial_extent,\n",
    "        temporal_extent=temporal_extent,\n",
    "        bands=[\"ensemble_flood_extent\"]\n",
    "    )\n",
    "\n",
    "    gfm_sum = gfm_dataset.reduce_dimension(dimension=\"t\", reducer=sum)\n",
    "    gfm_sum_tiff = gfm_sum.save_result(format=\"GTiff\", options={\"tile_grid\": \"wgs84-1degree\"})\n",
    "\n",
    "    job = gfm_sum_tiff.create_job(title=\"flood_extent\")\n",
    "    job.start_job()\n",
    "\n",
    "    jobs.append((period_start.strftime('%Y_%m'), job))\n",
    "    \n",
    "    current_date = period_end + timedelta(days=1)"
   ]
  },
  {
   "cell_type": "code",
   "execution_count": null,
   "id": "ed912963",
   "metadata": {},
   "outputs": [],
   "source": [
    "job.status()"
   ]
  },
  {
   "cell_type": "code",
   "execution_count": null,
   "id": "09f18d69",
   "metadata": {},
   "outputs": [],
   "source": [
    "for month, job in jobs:\n",
    "    print(f\"Downloading results for {month}...\")\n",
    "    job.get_results().download_files(os.path.join(output_folder, month))"
   ]
  },
  {
   "cell_type": "markdown",
   "id": "24fee7d5",
   "metadata": {},
   "source": [
    "visualize the data"
   ]
  },
  {
   "cell_type": "code",
   "execution_count": null,
   "id": "b9f88bdd",
   "metadata": {},
   "outputs": [],
   "source": [
    "import os\n",
    "import numpy as np\n",
    "import matplotlib.pyplot as plt\n",
    "import xarray as xr\n",
    "import rioxarray"
   ]
  },
  {
   "cell_type": "code",
   "execution_count": null,
   "id": "294027e6",
   "metadata": {},
   "outputs": [],
   "source": [
    "path = \"./gfm_fin/flood_extent_wgs/WGS84_E35N0_20180102T155529.tif\"\n",
    "flood_extent = rioxarray.open_rasterio(path)\n",
    "print(flood_extent)"
   ]
  },
  {
   "cell_type": "code",
   "execution_count": null,
   "id": "ad88beab",
   "metadata": {},
   "outputs": [],
   "source": [
    "# Extract flood band and clean no-data values\n",
    "flood_extent_clean = flood_extent.sel(band=1)\n",
    "flood_extent_clean = flood_extent_clean.where(flood_extent_clean != -9999)\n",
    "\n",
    "\n",
    "# Meshgrid for plotting\n",
    "X, Y = np.meshgrid(flood_extent_clean.x.values, flood_extent_clean.y.values)\n",
    "\n",
    "# Plot\n",
    "plt.figure(figsize=(6,6))\n",
    "plt.title(\"Flood Extent\", fontsize=12)\n",
    "f = plt.contourf(X, Y, flood_extent_clean, cmap='Blues')\n",
    "plt.colorbar(label=\"Flood extent\")  \n",
    "plt.show()"
   ]
  }
 ],
 "metadata": {
  "kernelspec": {
   "display_name": "zfl_flood",
   "language": "python",
   "name": "python3"
  },
  "language_info": {
   "codemirror_mode": {
    "name": "ipython",
    "version": 3
   },
   "file_extension": ".py",
   "mimetype": "text/x-python",
   "name": "python",
   "nbconvert_exporter": "python",
   "pygments_lexer": "ipython3",
   "version": "3.10.18"
  }
 },
 "nbformat": 4,
 "nbformat_minor": 5
}
